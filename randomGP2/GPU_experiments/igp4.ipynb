{
 "cells": [
  {
   "cell_type": "code",
   "execution_count": 1,
   "metadata": {},
   "outputs": [
    {
     "name": "stderr",
     "output_type": "stream",
     "text": [
      "c:\\Users\\fredw\\chris\\Research\\RandomIterativeGP\\randomGP2\\code\\mbcg.py:58: SyntaxWarning: invalid escape sequence '\\['\n",
      "  \"\"\"\n"
     ]
    },
    {
     "name": "stdout",
     "output_type": "stream",
     "text": [
      "SIZE (16599, 19)\n",
      "Dataset loaded\n",
      "torch.Size([6639, 17])\n"
     ]
    }
   ],
   "source": [
    "import os\n",
    "import sys\n",
    "import torch\n",
    "import numpy as np\n",
    "import matplotlib.pyplot as plt\n",
    "from tqdm import tqdm \n",
    "import time \n",
    "import gpytorch\n",
    "from gpytorch.functions import pivoted_cholesky\n",
    "\n",
    "from gpytorch.kernels import ScaleKernel, MaternKernel, RBFKernel\n",
    "from gpytorch.priors import GammaPrior\n",
    "from gpytorch.likelihoods import GaussianLikelihood\n",
    "import torch\n",
    "import gc\n",
    "\n",
    "gc.collect()\n",
    "torch.cuda.empty_cache()\n",
    "torch.cuda.ipc_collect()\n",
    "# Set device and global dtype\n",
    "device = \"cuda:0\"\n",
    "global_dtype = torch.float32\n",
    "\n",
    "# Ensure reproducibility\n",
    "np.random.seed(42)\n",
    "torch.manual_seed(42)\n",
    "\n",
    "# Add project source path\n",
    "notebook_dir = os.getcwd()\n",
    "src_path = os.path.abspath(os.path.join(notebook_dir, '../code'))\n",
    "if src_path not in sys.path:\n",
    "    sys.path.append(src_path)\n",
    "\n",
    "# Import custom modules\n",
    "from gps import CholeskyGaussianProcess, IterativeGaussianProcess\n",
    "from util import train, eval, plot_gpr_results, fetch_uci_dataset, memory_dump\n",
    "from plotting import plot_gp_simple, plot_gp_sample, plot_gp_simple_regions\n",
    "\n",
    "# Enable autoreloading of modules\n",
    "%load_ext autoreload\n",
    "%autoreload 2\n",
    "train_x, train_y, test_x, test_y = fetch_uci_dataset('bike',r\"C:\\Users\\fredw\\chris\\Research\\softki\\data\\uci_datasets\\uci_datasets\\elevators\\data.csv\",train_frac=4/10,val_frac=0)\n",
    "train_x = train_x.to(device)\n",
    "train_y = train_y.to(device)\n",
    "test_x = test_x.to(device)\n",
    "print(train_x.shape)"
   ]
  },
  {
   "cell_type": "code",
   "execution_count": 2,
   "metadata": {},
   "outputs": [
    {
     "name": "stdout",
     "output_type": "stream",
     "text": [
      "Training Iterative Gaussian Process (IGP)\n",
      "Timer unit: 1e-07 s\n",
      "\n",
      "Total time: 0.421693 s\n",
      "File: C:\\Users\\fredw\\AppData\\Local\\Temp\\ipykernel_32524\\1113260723.py\n",
      "Function: train2 at line 7\n",
      "\n",
      "Line #      Hits         Time  Per Hit   % Time  Line Contents\n",
      "==============================================================\n",
      "     7                                           def train2(model, train_x, train_y, test_x, test_y, training_iterations=100, lr=0.1):\n",
      "     8         1    2424333.0    2e+06     57.5      model.fit(train_x, train_y)\n",
      "     9         1     702268.0 702268.0     16.7      model.fit(train_x, train_y)\n",
      "    10         1     249719.0 249719.0      5.9      model.fit(train_x, train_y)\n",
      "    11         1     356574.0 356574.0      8.5      model.fit(train_x, train_y)\n",
      "    12         1     484041.0 484041.0     11.5      model.fit(train_x, train_y)\n",
      "    13                                           \n",
      "    14                                               # optimizer = torch.optim.Adam([\n",
      "    15                                               #     {'params': model.kernel.parameters()}, \n",
      "    16                                               #     {'params': [model.noise.u]}  # Use raw_value instead of noise()\n",
      "    17                                               # ], lr=lr)\n",
      "    18                                               # runtime_log, mll_loss_log, test_rmse_log = [], [], []\n",
      "    19                                               # for i in tqdm(range(training_iterations)):\n",
      "    20                                               #     start_time = time.time()\n",
      "    21                                               #     optimizer.zero_grad()\n",
      "    22                                                   \n",
      "    23                                               #     model.fit(train_x, train_y)\n",
      "    24                                               #     loss = model.compute_mll(train_y)\n",
      "    25                                               #     loss.backward()\n",
      "    26                                               #     optimizer.step()\n",
      "    27                                               #     # scheduler.step()  # Update the learning rate\n",
      "    28                                           \n",
      "    29                                               #     # print(loss)\n",
      "    30                                               #     mean,covar = model.predict(test_x)\n",
      "    31                                               #     total_time = time.time() - start_time\n",
      "    32                                               #     runtime_log.append(total_time)\n",
      "    33                                               #     mll_loss_log.append(-loss.item())\n",
      "    34                                                   \n",
      "    35                                               #     test_rmse = (torch.mean(torch.abs(mean.detach().cpu() - test_y))).item()\n",
      "    36                                               #     test_rmse_log.append(test_rmse)\n",
      "    37                                               #     if (i + 1) % 20 == 0:\n",
      "    38                                               #         print(f'Iter {i+1}/{training_iterations}, Loss: {loss.item():.4f}')\n",
      "    39                                               \n",
      "    40                                               # return model, runtime_log, mll_loss_log, test_rmse_log, mean, covar\n",
      "\n",
      "Total time: 1.0677 s\n",
      "File: C:\\Users\\fredw\\AppData\\Local\\Temp\\ipykernel_32524\\1113260723.py\n",
      "Function: run_igp_training at line 43\n",
      "\n",
      "Line #      Hits         Time  Per Hit   % Time  Line Contents\n",
      "==============================================================\n",
      "    43                                           def run_igp_training():\n",
      "    44                                               # Set up the base and scaled kernel for the IGP\n",
      "    45         2       6508.0   3254.0      0.1      base_kernel_igp = MaternKernel(ard_num_dims=train_x.shape[-1], \n",
      "    46         1       4088.0   4088.0      0.0                                     lengthscale_prior=GammaPrior(-3.0, 3.0), \n",
      "    47         1          4.0      4.0      0.0                                     nu=1.5)\n",
      "    48         1    6435284.0    6e+06     60.3      kernel_igp = ScaleKernel(base_kernel_igp, outputscale_prior=GammaPrior(-3.0, 3)).to(\"cuda:0\")\n",
      "    49                                               \n",
      "    50                                               # Initialize the Iterative Gaussian Process model with the desired parameters\n",
      "    51         2      13051.0   6525.5      0.1      igp_model = IterativeGaussianProcess(\n",
      "    52         1          2.0      2.0      0.0          kernel=kernel_igp, \n",
      "    53         1          2.0      2.0      0.0          noise=0.4, \n",
      "    54         1          4.0      4.0      0.0          dtype=global_dtype, \n",
      "    55         1          3.0      3.0      0.0          device=device,\n",
      "    56         1          2.0      2.0      0.0          cg_tol=1e-3, \n",
      "    57         1          1.0      1.0      0.0          cg_max_iter=100, \n",
      "    58         1          1.0      1.0      0.0          warm_start=True, \n",
      "    59         1          1.0      1.0      0.0          num_probes=16,\n",
      "    60         1          1.0      1.0      0.0          precon_type=\"identity\", \n",
      "    61         1          2.0      2.0      0.0          trace_backend=\"Hutch\",\n",
      "    62         1          2.0      2.0      0.0          verbose=False, \n",
      "    63         1          1.0      1.0      0.0          track_iterations=True, \n",
      "    64         1         32.0     32.0      0.0          pred_lanczos_rank=train_x.shape[0],\n",
      "    65         1          1.0      1.0      0.0          compute_covariance=False\n",
      "    66                                               )\n",
      "    67                                               \n",
      "    68         1          3.0      3.0      0.0      training_iterations = 1\n",
      "    69         1          1.0      1.0      0.0      lr = 0.01\n",
      "    70                                           \n",
      "    71         1        953.0    953.0      0.0      print(\"Training Iterative Gaussian Process (IGP)\")\n",
      "    72                                               # Train the IGP model and capture relevant outputs2\n",
      "    73         1    4217013.0    4e+06     39.5      results = train2(igp_model, train_x, train_y, test_x, test_y, training_iterations, lr)\n",
      "    74         1         11.0     11.0      0.0      return results\n",
      "\n",
      "Total time: 0.0245961 s\n",
      "File: c:\\Users\\fredw\\chris\\Research\\RandomIterativeGP\\randomGP2\\code\\gps.py\n",
      "Function: get_preconditioner at line 145\n",
      "\n",
      "Line #      Hits         Time  Per Hit   % Time  Line Contents\n",
      "==============================================================\n",
      "   145                                               def get_preconditioner(self, X):\n",
      "   146         5         33.0      6.6      0.0          if self.precon_type == \"identity\":\n",
      "   147         5        447.0     89.4      0.2              self.pinv_closure = identity_precon\n",
      "   148         5         42.0      8.4      0.0              n = X.shape[0]\n",
      "   149         5     245032.0  49006.4     99.6              self.preconditioner_matrix = torch.eye(n, dtype=self.dtype, device=self.device)\n",
      "   150         5        407.0     81.4      0.2              self.preconditioner_matrix.requires_grad_(True)  # Ensure it tracks gradients   \n",
      "   151                                                   elif self.precon_type == \"piv_chol\":\n",
      "   152                                                       # build_cholesky now returns (precond_inv, preconditioner_matrix, L_k)\n",
      "   153                                                       self.pinv_closure, self.preconditioner_matrix, self.L_k = build_cholesky(\n",
      "   154                                                           X, self.kernel, self.noise.get_value(), self.precon_rank\n",
      "   155                                                       )\n",
      "   156                                                       self.preconditioner_matrix.requires_grad_(True)  # Ensure it tracks gradients\n",
      "   157                                           \n",
      "   158                                                   else:\n",
      "   159                                                       raise NotImplementedError(f\"Preconditioner '{self.precon_type}' is not implemented.\")\n",
      "\n",
      "Total time: 0.420464 s\n",
      "File: c:\\Users\\fredw\\chris\\Research\\RandomIterativeGP\\randomGP2\\code\\gps.py\n",
      "Function: fit at line 177\n",
      "\n",
      "Line #      Hits         Time  Per Hit   % Time  Line Contents\n",
      "==============================================================\n",
      "   177                                               def fit(self, X, y):\n",
      "   178         5       1025.0    205.0      0.0          self.X_train = X.to(dtype=self.dtype, device=self.device)\n",
      "   179         5        135.0     27.0      0.0          y = y.to(dtype=self.dtype, device=self.device)\n",
      "   180         5         92.0     18.4      0.0          n = self.X_train.shape[0]\n",
      "   181                                           \n",
      "   182                                                   # Precompute the kernel matrix once and cache it\n",
      "   183                                                   # with torch.no_grad():\n",
      "   184                                           \n",
      "   185         5     246283.0  49256.6      5.9          self.get_preconditioner(self.X_train)\n",
      "   186         5       4754.0    950.8      0.1          self.K_lazy = self.kernel(self.X_train, self.X_train)\n",
      "   187         5         35.0      7.0      0.0          def matmul_closure(b):\n",
      "   188                                                       return self.K_lazy.matmul(b) + self.noise.get_value()**2 * b\n",
      "   189                                           \n",
      "   190                                           \n",
      "   191                                                   #-------- Setup RHS of mbCG -------- \n",
      "   192         5        819.0    163.8      0.0          b = torch.empty((n, self.num_probes + 1), dtype=self.dtype, device=self.device)\n",
      "   193         5      52329.0  10465.8      1.2          b[:, 0] = y.view(-1)\n",
      "   194                                           \n",
      "   195         5         64.0     12.8      0.0          if self.num_probes > 0:\n",
      "   196         5         41.0      8.2      0.0              if self.precon_type == \"piv_chol\":\n",
      "   197                                                           k = self.L_k.shape[1]\n",
      "   198                                                           # Sample z1 ~ NORMAL(0, I_k) and z2 ~ NORMAL(0, I_n)\n",
      "   199                                                           z1 = torch.randn((k, self.num_probes), dtype=self.dtype, device=self.device)\n",
      "   200                                                           z2 = torch.randn((n, self.num_probes), dtype=self.dtype, device=self.device)\n",
      "   201                                                           sigma = self.noise.get_value()\n",
      "   202                                                           # Form random probe vectors via reparameterization: L_k @ z1 + sigma * z2\n",
      "   203                                                           rand_vectors = self.L_k @ z1 + sigma * z2\n",
      "   204                                                       else:\n",
      "   205         5      11179.0   2235.8      0.3                  rand_vectors = torch.randn(n, self.num_probes, dtype=self.dtype, device=self.device)\n",
      "   206                                                       \n",
      "   207                                                       #---- Normalize to lie on the unit sphere ----\n",
      "   208         5     113702.0  22740.4      2.7              norms = torch.norm(rand_vectors, p=2, dim=0, keepdim=True)\n",
      "   209         5     108256.0  21651.2      2.6              rand_vectors = rand_vectors / (norms + 1e-10)\n",
      "   210         5       1872.0    374.4      0.0              b[:, 1:] = rand_vectors\n",
      "   211                                           \n",
      "   212                                                   # Normalize each column of b to unit norm\n",
      "   213         5       3419.0    683.8      0.1          rhs_norm = torch.norm(b, p=2, dim=0, keepdim=True)\n",
      "   214         5      35599.0   7119.8      0.8          rhs_is_zero = rhs_norm.lt(1e-10)\n",
      "   215         5     342440.0  68488.0      8.1          rhs_norm = rhs_norm.masked_fill(rhs_is_zero, 1)\n",
      "   216         5       1503.0    300.6      0.0          b_normalized = b / rhs_norm\n",
      "   217                                           \n",
      "   218         5       2070.0    414.0      0.0          self.Z = b[:, 1:]\n",
      "   219                                                   #---- Warm start initialization ----\n",
      "   220         5         39.0      7.8      0.0          if self.warm_start and self.previous_solutions is not None:\n",
      "   221                                                       x0 = self.previous_solutions\n",
      "   222                                                   else:\n",
      "   223         5       1791.0    358.2      0.0              x0 = torch.zeros_like(b_normalized)\n",
      "   224                                           \n",
      "   225         5         82.0     16.4      0.0          if self.track_iterations and not hasattr(self, 'Us'):\n",
      "   226                                                       self.initialize_trackers()\n",
      "   227                                           \n",
      "   228                                                   #---- Build preconditioner/state ----\n",
      "   229        10    1131312.0 113131.2     26.9          state, aux = initialize_cg(\n",
      "   230         5         16.0      3.2      0.0              matmul_closure, b_normalized, stop_updating_after=1e-10,\n",
      "   231         5         21.0      4.2      0.0              eps=1e-10, preconditioner=self.pinv_closure\n",
      "   232                                                   )\n",
      "   233         5         78.0     15.6      0.0          x0, has_converged, r0, batch_shape, residual_norm = state\n",
      "   234         5         14.0      2.8      0.0          (p0, gamma0, mul_storage, beta, alpha, is_zero, z0) = aux\n",
      "   235         5         35.0      7.0      0.0          if self.verbose:\n",
      "   236                                                       self.update_trackers(x0, r0, gamma0, p0, k=0)\n",
      "   237                                           \n",
      "   238                                                   #-------- CG iteration --------\n",
      "   239         5         12.0      2.4      0.0          alpha_history_list = []\n",
      "   240         5         12.0      2.4      0.0          beta_history_list = []\n",
      "   241         5         14.0      2.8      0.0          iter_idx = 0\n",
      "   242                                               \n",
      "   243       158        807.0      5.1      0.0          for k in range(1, self.cg_max_iter):\n",
      "   244       158     440497.0   2788.0     10.5              Ap0 = matmul_closure(p0)\n",
      "   245       316     926818.0   2933.0     22.0              x0, r0, gamma0, beta, p0, alpha = take_cg_step(\n",
      "   246       158        524.0      3.3      0.0                  Ap0, x0, r0, gamma0, p0, alpha, beta, z0, mul_storage,\n",
      "   247       158        659.0      4.2      0.0                  has_converged, eps=1e-10, is_zero=is_zero, precon=self.pinv_closure\n",
      "   248                                                       )\n",
      "   249                                                       # Accumulate the sliced vectors (ignoring the first column)\n",
      "   250       158      32306.0    204.5      0.8              alpha_history_list.append(alpha[0, 1:])\n",
      "   251       158      15288.0     96.8      0.4              beta_history_list.append(beta[0, 1:])\n",
      "   252       158        731.0      4.6      0.0              iter_idx += 1\n",
      "   253                                           \n",
      "   254       316     596315.0   1887.1     14.2              if cond_fn(k, self.cg_max_iter, self.cg_tol, r0, has_converged,\n",
      "   255       158       1646.0     10.4      0.0                      residual_norm, stop_updating_after=1e-10, rhs_is_zero=rhs_is_zero):\n",
      "   256         5         23.0      4.6      0.0                  break\n",
      "   257       153        853.0      5.6      0.0              if self.verbose:\n",
      "   258                                                           print_analysis(k, alpha, residual_norm, gamma0, beta)\n",
      "   259                                                           self.update_trackers(x0, r0, gamma0, p0, k)\n",
      "   260                                           \n",
      "   261                                                 # Stack the accumulated rows to create history tensors.\n",
      "   262         5       3619.0    723.8      0.1          alpha_history = torch.stack(alpha_history_list, dim=0)\n",
      "   263         5       2140.0    428.0      0.1          beta_history = torch.stack(beta_history_list, dim=0)\n",
      "   264                                           \n",
      "   265                                                   # Transpose the history tensors so the probe dimension comes first.\n",
      "   266                                                   # Now alpha_batch has shape (num_probes, iter_idx) and beta_history (num_probes, iter_idx).\n",
      "   267         5        486.0     97.2      0.0          alpha_batch = alpha_history.transpose(0, 1)  # shape: (num_probes, iter_idx)\n",
      "   268         5        203.0     40.6      0.0          beta_batch = beta_history.transpose(0, 1)    # shape: (num_probes, iter_idx)\n",
      "   269                                                   # For each probe, beta should be of length (iter_idx - 1) (since beta_list[0] corresponds to iteration 2 onward).\n",
      "   270         5        856.0    171.2      0.0          beta_batch = beta_batch[:, :alpha_batch.size(1) - 1]  # shape: (num_probes, iter_idx - 1)\n",
      "   271                                                   # Build a batch of Lanczos matrices.\n",
      "   272         5      78414.0  15682.8      1.9          T_batch = build_lanczos_batched(alpha_batch, beta_batch, dtype=self.dtype, device=self.device, eps=1e-16)\n",
      "   273                                                   # T_batch now has shape (num_probes, iter_idx, iter_idx)\n",
      "   274                                                   # If needed, convert the batch into a list of individual matrices.\n",
      "   275        85       8960.0    105.4      0.2          self.lanczos_iterates = [T_batch[i] for i in range(T_batch.size(0))]\n",
      "   276                                           \n",
      "   277         5       1546.0    309.2      0.0          solution = x0 * rhs_norm\n",
      "   278         5        765.0    153.0      0.0          self.previous_solution = solution  # Cache for warm start\n",
      "   279         5       1416.0    283.2      0.0          self.alpha = solution[:, 0]\n",
      "   280         5      30723.0   6144.6      0.7          self.probe_solutions = solution[:, 1:]\n",
      "\n",
      "Total time: 0.113063 s\n",
      "File: c:\\Users\\fredw\\chris\\Research\\RandomIterativeGP\\randomGP2\\code\\mbcg.py\n",
      "Function: initialize_cg at line 209\n",
      "\n",
      "Line #      Hits         Time  Per Hit   % Time  Line Contents\n",
      "==============================================================\n",
      "   209                                           def initialize_cg(matmul_closure, rhs, stop_updating_after, eps, preconditioner):\n",
      "   210         5        948.0    189.6      0.1      initial_guess = torch.zeros_like(rhs)\n",
      "   211         5      47390.0   9478.0      4.2      eps = torch.tensor(eps, dtype=rhs.dtype, device=rhs.device)\n",
      "   212                                           \n",
      "   213         5    1061288.0 212257.6     93.9      residual = rhs - matmul_closure(initial_guess)\n",
      "   214         5        127.0     25.4      0.0      batch_shape = residual.shape[:-2]\n",
      "   215                                           \n",
      "   216         5        655.0    131.0      0.1      result = initial_guess.expand_as(residual).contiguous()\n",
      "   217                                           \n",
      "   218         5       2078.0    415.6      0.2      residual_norm = residual.norm(2, dim=-2, keepdim=True)\n",
      "   219         5       1142.0    228.4      0.1      has_converged = torch.lt(residual_norm, stop_updating_after)\n",
      "   220                                           \n",
      "   221         5         24.0      4.8      0.0      state = (result, has_converged, residual, batch_shape, residual_norm)\n",
      "   222         5      16941.0   3388.2      1.5      out = create_placeholders(rhs, residual, preconditioner, batch_shape)\n",
      "   223         5         42.0      8.4      0.0      return state, out\n",
      "\n",
      "Total time: 0.0906217 s\n",
      "File: c:\\Users\\fredw\\chris\\Research\\RandomIterativeGP\\randomGP2\\code\\mbcg.py\n",
      "Function: take_cg_step at line 225\n",
      "\n",
      "Line #      Hits         Time  Per Hit   % Time  Line Contents\n",
      "==============================================================\n",
      "   225                                           def take_cg_step(Ap0, x0, r0, gamma0, p0, alpha, beta, z0, mul_storage, has_converged, eps, is_zero, precon):\n",
      "   226       158      58798.0    372.1      6.5      dot = torch.sum(p0 * Ap0, dim=-2, keepdim=True)\n",
      "   227       158      27752.0    175.6      3.1      is_small = dot < eps\n",
      "   228       158      90257.0    571.2     10.0      alpha_new = gamma0 / torch.where(is_small, torch.ones_like(dot), dot)\n",
      "   229       158     242801.0   1536.7     26.8      alpha_new = torch.where(is_small | has_converged, torch.zeros_like(alpha_new), alpha_new)\n",
      "   230       158      58933.0    373.0      6.5      r_new = r0 - alpha_new * Ap0\n",
      "   231       158      75388.0    477.1      8.3      x_new = x0 + alpha_new * p0\n",
      "   232       158      19277.0    122.0      2.1      precond_residual = precon(r_new)\n",
      "   233       158      67956.0    430.1      7.5      new_gamma = torch.sum(r_new * precond_residual, dim=-2, keepdim=True)\n",
      "   234       158      30090.0    190.4      3.3      is_small_gamma = gamma0 < eps\n",
      "   235       158      92609.0    586.1     10.2      beta_new = new_gamma / torch.where(is_small_gamma, torch.ones_like(gamma0), gamma0)\n",
      "   236       158      62910.0    398.2      6.9      beta_new = torch.where(is_small_gamma, torch.zeros_like(beta_new), beta_new)\n",
      "   237       158      77240.0    488.9      8.5      p_new = precond_residual + beta_new * p0\n",
      "   238       158       2206.0     14.0      0.2      return x_new, r_new, new_gamma, beta_new, p_new, alpha_new\n",
      "\n",
      "Total time: 0.0579829 s\n",
      "File: c:\\Users\\fredw\\chris\\Research\\RandomIterativeGP\\randomGP2\\code\\mbcg.py\n",
      "Function: cond_fn at line 257\n",
      "\n",
      "Line #      Hits         Time  Per Hit   % Time  Line Contents\n",
      "==============================================================\n",
      "   257                                           def cond_fn(k, max_iter, tolerance, residual, has_converged, residual_norm, stop_updating_after, rhs_is_zero):\n",
      "   258       158      70965.0    449.1     12.2      new_residual_norm = torch.norm(residual, 2, dim=-2, keepdim=True)\n",
      "   259       158      72800.0    460.8     12.6      new_residual_norm = torch.where(rhs_is_zero, torch.zeros_like(new_residual_norm), new_residual_norm)\n",
      "   260       158      34157.0    216.2      5.9      new_has_converged = new_residual_norm < stop_updating_after\n",
      "   261       158     400646.0   2535.7     69.1      flag = k >= min(10, max_iter - 1) and bool(new_residual_norm.mean() < tolerance)\n",
      "   262       158       1261.0      8.0      0.2      return flag\n",
      "\n",
      "Total time: 0 s\n",
      "File: c:\\Users\\fredw\\chris\\Research\\RandomIterativeGP\\randomGP2\\code\\preconditioners.py\n",
      "Function: _pivoted_cholesky at line 24\n",
      "\n",
      "Line #      Hits         Time  Per Hit   % Time  Line Contents\n",
      "==============================================================\n",
      "    24                                           def _pivoted_cholesky(x, kernel_fn, outputscale, rank=100, epsilon=1e-8, jitter=1e-6):\n",
      "    25                                               n = x.shape[0]\n",
      "    26                                               L = torch.zeros((rank, n), device=x.device, dtype=x.dtype)\n",
      "    27                                               d = outputscale**2 * torch.ones(n, device=x.device, dtype=x.dtype)\n",
      "    28                                               pi = torch.arange(n, device=x.device)\n",
      "    29                                           \n",
      "    30                                               for m in range(rank):\n",
      "    31                                                   # Find pivot: index of maximum value in d[m:]\n",
      "    32                                                   pivot_relative = torch.argmax(d[m:]).item()\n",
      "    33                                                   i = m + pivot_relative\n",
      "    34                                           \n",
      "    35                                                   # Swap entries in pi; clone if needed to break dependencies\n",
      "    36                                                   if i != m:\n",
      "    37                                                       pi = pi.clone()\n",
      "    38                                                       temp = pi[m].clone()\n",
      "    39                                                       pi[m] = pi[i]\n",
      "    40                                                       pi[i] = temp\n",
      "    41                                           \n",
      "    42                                                   # Use clamped value for the pivot to avoid sqrt of negative/zero\n",
      "    43                                                   pivot_val = torch.clamp(d[pi[m]], min=epsilon)\n",
      "    44                                                   denom = torch.sqrt(pivot_val)\n",
      "    45                                                   L[m, pi[m]] = denom\n",
      "    46                                           \n",
      "    47                                                   # Compute kernel evaluations between the pivot and the remaining points\n",
      "    48                                                   a = kernel_fn(x[pi[m]].unsqueeze(0), x[pi[m+1:]]).squeeze(0)\n",
      "    49                                                   \n",
      "    50                                                   # Compute correction from previous rows, if any\n",
      "    51                                                   if m > 0:\n",
      "    52                                                       temp1 = L[:m, pi[m]].clone()\n",
      "    53                                                       temp2 = L[:m, pi[m+1:]].clone()\n",
      "    54                                                       correction = torch.sum(temp1.unsqueeze(1) * temp2, dim=0)\n",
      "    55                                                   else:\n",
      "    56                                                       correction = 0.0\n",
      "    57                                           \n",
      "    58                                                   # Compute new elements for L's m-th row for the remaining indices\n",
      "    59                                                   l = (a - correction) / denom\n",
      "    60                                                   L[m, pi[m+1:]] = l\n",
      "    61                                           \n",
      "    62                                                   # Update d for the remaining indices using an out-of-place update\n",
      "    63                                                   d_updated = d[pi[m+1:]] - (l ** 2)\n",
      "    64                                                   # Clamp to ensure non-negativity and add jitter\n",
      "    65                                                   d = d.index_copy(0, pi[m+1:], torch.clamp(d_updated, min=epsilon) + jitter)\n",
      "    66                                               \n",
      "    67                                               return L\n",
      "\n",
      "Total time: 0 s\n",
      "File: c:\\Users\\fredw\\chris\\Research\\RandomIterativeGP\\randomGP2\\code\\preconditioners.py\n",
      "Function: build_cholesky at line 76\n",
      "\n",
      "Line #      Hits         Time  Per Hit   % Time  Line Contents\n",
      "==============================================================\n",
      "    76                                           def build_cholesky(X: torch.Tensor, kernel: Callable[[torch.Tensor, torch.Tensor], torch.Tensor], noise: float, rank: int):\n",
      "    77                                               # L=pivoted_cholesky(X, rank, error_tol=1e-14)\n",
      "    78                                               L = _pivoted_cholesky(X, kernel, kernel.outputscale, rank=rank)  # L has shape (rank, n)\n",
      "    79                                               noise_inv2 = noise ** -2\n",
      "    80                                               noise_inv4 = noise ** -4\n",
      "    81                                               M = torch.eye(rank, device=L.device, dtype=L.dtype) + noise_inv2 * (L @ L.T)\n",
      "    82                                               M_cho_factor = psd_safe_cholesky(M)\n",
      "    83                                               \n",
      "    84                                               @torch.jit.ignore\n",
      "    85                                               def precond_inv(v: torch.Tensor) -> torch.Tensor:\n",
      "    86                                                   if v.ndim == 1:\n",
      "    87                                                       v = v.unsqueeze(1)\n",
      "    88                                                   tmp = noise_inv2 * (L.T @ torch.cholesky_solve(L @ v, M_cho_factor, upper=False))\n",
      "    89                                                   result = noise_inv2 * (v - tmp)\n",
      "    90                                                   return result.squeeze(-1) if result.ndim == 2 and result.shape[1] == 1 else result\n",
      "    91                                           \n",
      "    92                                               preconditioner_matrix = L @ L.T + noise**2 * torch.eye(rank, device=L.device, dtype=L.dtype)\n",
      "    93                                               \n",
      "    94                                               return precond_inv, preconditioner_matrix, L.T\n",
      "\n",
      "Total time: 0 s\n",
      "File: c:\\Users\\fredw\\miniconda3\\envs\\softki\\Lib\\site-packages\\torch\\nn\\modules\\module.py\n",
      "Function: _forward_unimplemented at line 383\n",
      "\n",
      "Line #      Hits         Time  Per Hit   % Time  Line Contents\n",
      "==============================================================\n",
      "   383                                           def _forward_unimplemented(self, *input: Any) -> None:\n",
      "   384                                               r\"\"\"Define the computation performed at every call.\n",
      "   385                                           \n",
      "   386                                               Should be overridden by all subclasses.\n",
      "   387                                           \n",
      "   388                                               .. note::\n",
      "   389                                                   Although the recipe for forward pass needs to be defined within\n",
      "   390                                                   this function, one should call the :class:`Module` instance afterwards\n",
      "   391                                                   instead of this since the former takes care of running the\n",
      "   392                                                   registered hooks while the latter silently ignores them.\n",
      "   393                                               \"\"\"\n",
      "   394                                               raise NotImplementedError(\n",
      "   395                                                   f'Module [{type(self).__name__}] is missing the required \"forward\" function'\n",
      "   396                                               )\n",
      "\n"
     ]
    }
   ],
   "source": [
    "import torch\n",
    "import matplotlib.pyplot as plt\n",
    "from line_profiler import LineProfiler\n",
    "from preconditioners import build_cholesky,_pivoted_cholesky\n",
    "from mbcg import initialize_cg,cond_fn\n",
    "\n",
    "def train2(model, train_x, train_y, test_x, test_y, training_iterations=100, lr=0.1):\n",
    "    model.fit(train_x, train_y)\n",
    "    model.fit(train_x, train_y)\n",
    "    model.fit(train_x, train_y)\n",
    "    model.fit(train_x, train_y)\n",
    "    model.fit(train_x, train_y)\n",
    "\n",
    "    # optimizer = torch.optim.Adam([\n",
    "    #     {'params': model.kernel.parameters()}, \n",
    "    #     {'params': [model.noise.u]}  # Use raw_value instead of noise()\n",
    "    # ], lr=lr)\n",
    "    # runtime_log, mll_loss_log, test_rmse_log = [], [], []\n",
    "    # for i in tqdm(range(training_iterations)):\n",
    "    #     start_time = time.time()\n",
    "    #     optimizer.zero_grad()\n",
    "        \n",
    "    #     model.fit(train_x, train_y)\n",
    "    #     loss = model.compute_mll(train_y)\n",
    "    #     loss.backward()\n",
    "    #     optimizer.step()\n",
    "    #     # scheduler.step()  # Update the learning rate\n",
    "\n",
    "    #     # print(loss)\n",
    "    #     mean,covar = model.predict(test_x)\n",
    "    #     total_time = time.time() - start_time\n",
    "    #     runtime_log.append(total_time)\n",
    "    #     mll_loss_log.append(-loss.item())\n",
    "        \n",
    "    #     test_rmse = (torch.mean(torch.abs(mean.detach().cpu() - test_y))).item()\n",
    "    #     test_rmse_log.append(test_rmse)\n",
    "    #     if (i + 1) % 20 == 0:\n",
    "    #         print(f'Iter {i+1}/{training_iterations}, Loss: {loss.item():.4f}')\n",
    "    \n",
    "    # return model, runtime_log, mll_loss_log, test_rmse_log, mean, covar\n",
    "\n",
    "\n",
    "def run_igp_training():\n",
    "    # Set up the base and scaled kernel for the IGP\n",
    "    base_kernel_igp = MaternKernel(ard_num_dims=train_x.shape[-1], \n",
    "                                   lengthscale_prior=GammaPrior(-3.0, 3.0), \n",
    "                                   nu=1.5)\n",
    "    kernel_igp = ScaleKernel(base_kernel_igp, outputscale_prior=GammaPrior(-3.0, 3)).to(\"cuda:0\")\n",
    "    \n",
    "    # Initialize the Iterative Gaussian Process model with the desired parameters\n",
    "    igp_model = IterativeGaussianProcess(\n",
    "        kernel=kernel_igp, \n",
    "        noise=0.4, \n",
    "        dtype=global_dtype, \n",
    "        device=device,\n",
    "        cg_tol=1e-3, \n",
    "        cg_max_iter=100, \n",
    "        warm_start=True, \n",
    "        num_probes=16,\n",
    "        precon_type=\"identity\", \n",
    "        trace_backend=\"Hutch\",\n",
    "        verbose=False, \n",
    "        track_iterations=True, \n",
    "        pred_lanczos_rank=train_x.shape[0],\n",
    "        compute_covariance=False\n",
    "    )\n",
    "    \n",
    "    training_iterations = 1\n",
    "    lr = 0.01\n",
    "\n",
    "    print(\"Training Iterative Gaussian Process (IGP)\")\n",
    "    # Train the IGP model and capture relevant outputs2\n",
    "    results = train2(igp_model, train_x, train_y, test_x, test_y, training_iterations, lr)\n",
    "    return results\n",
    "\n",
    "# Set up the line profiler\n",
    "lp = LineProfiler()\n",
    "from mbcg import take_cg_step\n",
    "# from preconditioners import _pivoted_cholesky\n",
    "# Add the main training function and key IGP class methods you want to profile.\n",
    "# Here we add the train function, and as an example, the forward method of IterativeGaussianProcess.\n",
    "lp.add_function(train2)\n",
    "lp.add_function(take_cg_step)\n",
    "lp.add_function(build_cholesky)\n",
    "lp.add_function(_pivoted_cholesky)\n",
    "lp.add_function(cond_fn)\n",
    "lp.add_function(initialize_cg\n",
    ")\n",
    "lp.add_function(IterativeGaussianProcess.forward)\n",
    "lp.add_function(IterativeGaussianProcess.fit)\n",
    "lp.add_function(IterativeGaussianProcess.get_preconditioner)\n",
    "\n",
    "# If there are other important methods (for example, an 'optimize' method), add them similarly:\n",
    "# lp.add_function(IterativeGaussianProcess.optimize)\n",
    "\n",
    "# Wrap the IGP training run with the profiler and execute it.\n",
    "lp_wrapper = lp(run_igp_training)\n",
    "results = lp_wrapper()\n",
    "\n",
    "# Print out the profiling statistics.\n",
    "lp.print_stats()"
   ]
  },
  {
   "cell_type": "code",
   "execution_count": 6,
   "metadata": {},
   "outputs": [
    {
     "name": "stdout",
     "output_type": "stream",
     "text": [
      "tensor(13352.7461, device='cuda:0', grad_fn=<MulBackward0>)\n",
      "tensor(13343.9219, device='cuda:0', grad_fn=<MulBackward0>)\n",
      "tensor(13344.0635, device='cuda:0', grad_fn=<MulBackward0>)\n",
      "tensor(13358.6230, device='cuda:0', grad_fn=<MulBackward0>)\n",
      "tensor(13353.2637, device='cuda:0', grad_fn=<MulBackward0>)\n",
      "=== AVERAGED PERFORMANCE METRICS OVER 5 RUNS (Baseline: Cholesky GP) ===\n",
      "------------------------------------------------------------\n",
      "Cholesky GP Fit Time         : 0.0906 sec  (Baseline)\n",
      "Iterative GP Fit Time        : 0.0627 sec\n",
      "Fit Time Difference          : 0.0280 sec  (\u001b[92m+30.85%\u001b[0m)\n",
      "Speedup Factor               : 1.45×\n",
      "------------------------------------------------------------\n",
      "Cholesky GP Prediction Time  : 0.0086 sec  (Baseline)\n",
      "Iterative GP Prediction Time : 0.0054 sec\n",
      "Prediction Time Difference   : 0.0031 sec  (\u001b[92m+36.47%\u001b[0m)\n",
      "Speedup Factor               : 1.57×\n",
      "------------------------------------------------------------\n",
      "Cholesky GP Total Time       : 0.0992 sec  (Baseline)\n",
      "Iterative GP Total Time      : 0.0681 sec\n",
      "Total Time Difference        : 0.0311 sec  (\u001b[92m+31.33%\u001b[0m)\n",
      "Speedup Factor               : 1.46×\n",
      "------------------------------------------------------------\n",
      "Cholesky GP MLL Computation  : 0.1546 sec  (Baseline)\n",
      "Iterative GP MLL Computation : 0.0010 sec\n",
      "MLL Time Difference          : 0.1536 sec  (\u001b[92m+99.35%\u001b[0m)\n",
      "Speedup Factor               : 154.62×\n",
      "------------------------------------------------------------\n",
      "=== AVERAGED ACCURACY METRICS OVER 5 RUNS ===\n",
      "Cholesky GP RMSE             : 0.3043  (Baseline)\n",
      "Iterative GP RMSE            : 0.3050\n",
      "RMSE Difference              : 0.0007\n",
      "------------------------------------------------------------\n",
      "=== AVERAGED MLL VALUES OVER 5 RUNS ===\n",
      "Cholesky GP MLL Value        : 7283.0908  (Baseline)\n",
      "Iterative GP MLL Value       : 13350.5236\n",
      "MLL Value Difference         : 6067.4328\n",
      "------------------------------------------------------------\n"
     ]
    },
    {
     "data": {
      "image/png": "[encoded data removed]",
      "text/plain": [
       "<Figure size 1800x1000 with 6 Axes>"
      ]
     },
     "metadata": {},
     "output_type": "display_data"
    }
   ],
   "source": [
    "import time\n",
    "import numpy as np\n",
    "import torch\n",
    "import matplotlib.pyplot as plt\n",
    "from tqdm import tqdm\n",
    "\n",
    "# Assuming the following GP classes and kernels are defined elsewhere:\n",
    "# MaternKernel, GammaPrior, ScaleKernel, CholeskyGaussianProcess, IterativeGaussianProcess\n",
    "\n",
    "def run_cholesky_gp(train_x, train_y, test_x, test_y, device, global_dtype):\n",
    "    base_kernel = MaternKernel(\n",
    "        ard_num_dims=train_x.shape[-1],\n",
    "        lengthscale_prior=GammaPrior(3.0, 6.0),\n",
    "        nu=1.5,\n",
    "        compute_covariance=False\n",
    "    )\n",
    "    kernel = ScaleKernel(base_kernel, outputscale_prior=GammaPrior(2.0, 0.15)).to(device)\n",
    "    gpr = CholeskyGaussianProcess(kernel=kernel, dtype=global_dtype, noise=0.4, device=device)\n",
    "    \n",
    "    # Fit GP\n",
    "    start_fit = time.time()\n",
    "    gpr.fit(train_x, train_y)\n",
    "    chol_fit_time = time.time() - start_fit\n",
    "\n",
    "    # Prediction\n",
    "    start_pred = time.time()\n",
    "    chol_mean, GP_covariance = gpr.predict(test_x)\n",
    "    chol_pred_time = time.time() - start_pred\n",
    "\n",
    "    # MLL computation\n",
    "    startmll = time.time()\n",
    "    chol_mll_value = gpr.compute_mll(train_y)\n",
    "    chol_mll_time = time.time() - startmll\n",
    "\n",
    "    chol_total_time = chol_fit_time + chol_pred_time\n",
    "    chol_rmse = torch.mean(torch.abs(chol_mean.detach().cpu() - test_y)).item()\n",
    "\n",
    "    # Clean up intermediate objects to free memory between runs\n",
    "    del gpr, kernel, base_kernel, chol_mean, GP_covariance\n",
    "    torch.cuda.empty_cache()\n",
    "    \n",
    "    return chol_total_time, chol_fit_time, chol_pred_time, chol_rmse, chol_mll_time, chol_mll_value.detach().cpu()\n",
    "\n",
    "def run_iterative_gp(train_x, train_y, test_x, test_y, device, global_dtype):\n",
    "    base_kernel = MaternKernel(\n",
    "        ard_num_dims=train_x.shape[-1],\n",
    "        lengthscale_prior=GammaPrior(3.0, 6.0),\n",
    "        nu=1.5\n",
    "    )\n",
    "    kernel = ScaleKernel(base_kernel, outputscale_prior=GammaPrior(2.0, 0.15)).to(device)\n",
    "    \n",
    "    igp = IterativeGaussianProcess(\n",
    "        kernel=kernel,\n",
    "        noise=0.4,\n",
    "        dtype=global_dtype,\n",
    "        device=device,\n",
    "        cg_tol=1e-3,\n",
    "        cg_max_iter=20,\n",
    "        warm_start=False,\n",
    "        num_probes=16,\n",
    "        precon_type=\"piv_chol\",\n",
    "        trace_backend=\"Hutch\",\n",
    "        verbose=False,\n",
    "        track_iterations=True,\n",
    "        pred_lanczos_rank=train_x.shape[0],\n",
    "        compute_covariance=False\n",
    "    )\n",
    "    \n",
    "    # Fit GP\n",
    "    start_fit = time.time()\n",
    "    igp.fit(train_x, train_y)\n",
    "    iter_fit_time = time.time() - start_fit\n",
    "\n",
    "    # Prediction\n",
    "    start_pred = time.time()\n",
    "    mean, covar = igp.predict(test_x)\n",
    "    iter_pred_time = time.time() - start_pred\n",
    "    \n",
    "    iter_total_time = iter_fit_time + iter_pred_time\n",
    "    iter_rmse = torch.mean(torch.abs(mean.detach().cpu() - test_y)).item()\n",
    "\n",
    "    # MLL computation\n",
    "    startmll = time.time()\n",
    "    iter_mll_value = igp.compute_mll(train_y)\n",
    "    iter_mll_time = time.time() - startmll\n",
    "    print(iter_mll_value)\n",
    "    # Clean up intermediate objects to free memory between runs\n",
    "    del igp, kernel, base_kernel, mean, covar\n",
    "    torch.cuda.empty_cache()\n",
    "    \n",
    "    return iter_total_time, iter_fit_time, iter_pred_time, iter_rmse, iter_mll_time, iter_mll_value.detach().cpu()\n",
    "\n",
    "# Number of runs to average over\n",
    "num_runs = 5\n",
    "\n",
    "chol_metrics = []\n",
    "iter_metrics = []\n",
    "\n",
    "for _ in range(num_runs):\n",
    "    chol_metrics.append(run_cholesky_gp(train_x, train_y, test_x, test_y, device, global_dtype))\n",
    "    iter_metrics.append(run_iterative_gp(train_x, train_y, test_x, test_y, device, global_dtype))\n",
    "    # Delete any leftover variables between runs\n",
    "    torch.cuda.empty_cache()\n",
    "\n",
    "# Convert to numpy arrays for averaging\n",
    "# Each metric: [total_time, fit_time, pred_time, rmse, mll_time, mll_value]\n",
    "chol_metrics = np.array(chol_metrics)\n",
    "iter_metrics = np.array(iter_metrics)\n",
    "\n",
    "chol_total_avg, chol_fit_avg, chol_pred_avg, chol_rmse_avg, chol_mll_time_avg, chol_mll_value_avg = np.mean(chol_metrics, axis=0)\n",
    "iter_total_avg, iter_fit_avg, iter_pred_avg, iter_rmse_avg, iter_mll_time_avg, iter_mll_value_avg = np.mean(iter_metrics, axis=0)\n",
    "\n",
    "fit_speedup = ((chol_fit_avg - iter_fit_avg) / chol_fit_avg) * 100\n",
    "pred_speedup = ((chol_pred_avg - iter_pred_avg) / chol_pred_avg) * 100\n",
    "total_speedup = ((chol_total_avg - iter_total_avg) / chol_total_avg) * 100\n",
    "mll_speedup = ((chol_mll_time_avg - iter_mll_time_avg) / chol_mll_time_avg) * 100\n",
    "\n",
    "fit_factor = chol_fit_avg / iter_fit_avg if iter_fit_avg != 0 else float('inf')\n",
    "pred_factor = chol_pred_avg / iter_pred_avg if iter_pred_avg != 0 else float('inf')\n",
    "total_factor = chol_total_avg / iter_total_avg if iter_total_avg != 0 else float('inf')\n",
    "mll_factor = chol_mll_time_avg / iter_mll_time_avg if iter_mll_time_avg != 0 else float('inf')\n",
    "\n",
    "RED = \"\\033[91m\"\n",
    "GREEN = \"\\033[92m\"\n",
    "RESET = \"\\033[0m\"\n",
    "\n",
    "def format_speedup(speedup):\n",
    "    sign = \"+\" if speedup >= 0 else \"-\"\n",
    "    color = GREEN if speedup >= 0 else RED\n",
    "    return f\"{color}{sign}{abs(speedup):.2f}%{RESET}\"\n",
    "\n",
    "print(\"=== AVERAGED PERFORMANCE METRICS OVER 5 RUNS (Baseline: Cholesky GP) ===\")\n",
    "print(\"------------------------------------------------------------\")\n",
    "print(f\"Cholesky GP Fit Time         : {chol_fit_avg:.4f} sec  (Baseline)\")\n",
    "print(f\"Iterative GP Fit Time        : {iter_fit_avg:.4f} sec\")\n",
    "print(f\"Fit Time Difference          : {chol_fit_avg - iter_fit_avg:.4f} sec  ({format_speedup(fit_speedup)})\")\n",
    "print(f\"Speedup Factor               : {fit_factor:.2f}×\")\n",
    "print(\"------------------------------------------------------------\")\n",
    "print(f\"Cholesky GP Prediction Time  : {chol_pred_avg:.4f} sec  (Baseline)\")\n",
    "print(f\"Iterative GP Prediction Time : {iter_pred_avg:.4f} sec\")\n",
    "print(f\"Prediction Time Difference   : {chol_pred_avg - iter_pred_avg:.4f} sec  ({format_speedup(pred_speedup)})\")\n",
    "print(f\"Speedup Factor               : {pred_factor:.2f}×\")\n",
    "print(\"------------------------------------------------------------\")\n",
    "print(f\"Cholesky GP Total Time       : {chol_total_avg:.4f} sec  (Baseline)\")\n",
    "print(f\"Iterative GP Total Time      : {iter_total_avg:.4f} sec\")\n",
    "print(f\"Total Time Difference        : {chol_total_avg - iter_total_avg:.4f} sec  ({format_speedup(total_speedup)})\")\n",
    "print(f\"Speedup Factor               : {total_factor:.2f}×\")\n",
    "print(\"------------------------------------------------------------\")\n",
    "print(f\"Cholesky GP MLL Computation  : {chol_mll_time_avg:.4f} sec  (Baseline)\")\n",
    "print(f\"Iterative GP MLL Computation : {iter_mll_time_avg:.4f} sec\")\n",
    "print(f\"MLL Time Difference          : {chol_mll_time_avg - iter_mll_time_avg:.4f} sec  ({format_speedup(mll_speedup)})\")\n",
    "print(f\"Speedup Factor               : {mll_factor:.2f}×\")\n",
    "print(\"------------------------------------------------------------\")\n",
    "print(\"=== AVERAGED ACCURACY METRICS OVER 5 RUNS ===\")\n",
    "print(f\"Cholesky GP RMSE             : {chol_rmse_avg:.4f}  (Baseline)\")\n",
    "print(f\"Iterative GP RMSE            : {iter_rmse_avg:.4f}\")\n",
    "print(f\"RMSE Difference              : {iter_rmse_avg - chol_rmse_avg:.4f}\")\n",
    "print(\"------------------------------------------------------------\")\n",
    "print(\"=== AVERAGED MLL VALUES OVER 5 RUNS ===\")\n",
    "print(f\"Cholesky GP MLL Value        : {chol_mll_value_avg:.4f}  (Baseline)\")\n",
    "print(f\"Iterative GP MLL Value       : {iter_mll_value_avg:.4f}\")\n",
    "print(f\"MLL Value Difference         : {iter_mll_value_avg - chol_mll_value_avg:.4f}\")\n",
    "print(\"------------------------------------------------------------\")\n",
    "\n",
    "# Separate bar charts for each metric in a 2x3 grid\n",
    "metric_labels = ['Fit Time (sec)', 'Prediction Time (sec)', 'Total Time (sec)', 'RMSE', 'MLL Time (sec)', 'MLL Value']\n",
    "chol_vals = [chol_fit_avg, chol_pred_avg, chol_total_avg, chol_rmse_avg, chol_mll_time_avg, chol_mll_value_avg]\n",
    "iter_vals = [iter_fit_avg, iter_pred_avg, iter_total_avg, iter_rmse_avg, iter_mll_time_avg, iter_mll_value_avg]\n",
    "\n",
    "fig, axs = plt.subplots(2, 3, figsize=(18, 10))\n",
    "axs = axs.flatten()\n",
    "\n",
    "for i, label in enumerate(metric_labels):\n",
    "    ax = axs[i]\n",
    "    categories = ['Cholesky GP', 'Iterative GP']\n",
    "    values = [chol_vals[i], iter_vals[i]]\n",
    "    bar_colors = ['blue', 'orange']\n",
    "    \n",
    "    bars = ax.bar(categories, values, color=bar_colors)\n",
    "    ax.set_title(label)\n",
    "    ax.set_ylabel(\"Value\")\n",
    "    \n",
    "    for bar in bars:\n",
    "        height = bar.get_height()\n",
    "        ax.annotate(f'{height:.3f}',\n",
    "                    xy=(bar.get_x() + bar.get_width() / 2, height),\n",
    "                    xytext=(0, 3),  # 3 points vertical offset\n",
    "                    textcoords=\"offset points\",\n",
    "                    ha='center', va='bottom')\n",
    "    \n",
    "fig.suptitle(\"GP Metrics Comparison: Cholesky vs Iterative\", fontsize=16)\n",
    "fig.tight_layout(rect=[0, 0.03, 1, 0.95])\n",
    "plt.show()"
   ]
  },
  {
   "cell_type": "code",
   "execution_count": 8,
   "metadata": {},
   "outputs": [
    {
     "name": "stderr",
     "output_type": "stream",
     "text": [
      "  2%|▏         | 1/50 [00:00<00:20,  2.42it/s]"
     ]
    },
    {
     "name": "stdout",
     "output_type": "stream",
     "text": [
      "tensor(7277.5234, device='cuda:0', grad_fn=<MulBackward0>)\n",
      "tensor(7267.0259, device='cuda:0', grad_fn=<MulBackward0>)\n"
     ]
    },
    {
     "name": "stderr",
     "output_type": "stream",
     "text": [
      "  6%|▌         | 3/50 [00:00<00:09,  4.84it/s]"
     ]
    },
    {
     "name": "stdout",
     "output_type": "stream",
     "text": [
      "tensor(7251.7383, device='cuda:0', grad_fn=<MulBackward0>)\n",
      "tensor(7235.1230, device='cuda:0', grad_fn=<MulBackward0>)\n"
     ]
    },
    {
     "name": "stderr",
     "output_type": "stream",
     "text": [
      " 10%|█         | 5/50 [00:01<00:08,  5.60it/s]"
     ]
    },
    {
     "name": "stdout",
     "output_type": "stream",
     "text": [
      "tensor(7224.2881, device='cuda:0', grad_fn=<MulBackward0>)\n",
      "tensor(7206.8408, device='cuda:0', grad_fn=<MulBackward0>)\n"
     ]
    },
    {
     "name": "stderr",
     "output_type": "stream",
     "text": [
      " 14%|█▍        | 7/50 [00:01<00:07,  5.81it/s]"
     ]
    },
    {
     "name": "stdout",
     "output_type": "stream",
     "text": [
      "tensor(7204.0820, device='cuda:0', grad_fn=<MulBackward0>)\n",
      "tensor(7182.0410, device='cuda:0', grad_fn=<MulBackward0>)\n"
     ]
    },
    {
     "name": "stderr",
     "output_type": "stream",
     "text": [
      " 18%|█▊        | 9/50 [00:01<00:06,  6.15it/s]"
     ]
    },
    {
     "name": "stdout",
     "output_type": "stream",
     "text": [
      "tensor(7182.1738, device='cuda:0', grad_fn=<MulBackward0>)\n",
      "tensor(7171.8501, device='cuda:0', grad_fn=<MulBackward0>)\n"
     ]
    },
    {
     "name": "stderr",
     "output_type": "stream",
     "text": [
      " 22%|██▏       | 11/50 [00:01<00:06,  6.24it/s]"
     ]
    },
    {
     "name": "stdout",
     "output_type": "stream",
     "text": [
      "tensor(7160.6328, device='cuda:0', grad_fn=<MulBackward0>)\n",
      "tensor(7141.3838, device='cuda:0', grad_fn=<MulBackward0>)\n"
     ]
    },
    {
     "name": "stderr",
     "output_type": "stream",
     "text": [
      " 26%|██▌       | 13/50 [00:02<00:05,  6.47it/s]"
     ]
    },
    {
     "name": "stdout",
     "output_type": "stream",
     "text": [
      "tensor(7139.7148, device='cuda:0', grad_fn=<MulBackward0>)\n",
      "tensor(7129.5293, device='cuda:0', grad_fn=<MulBackward0>)\n"
     ]
    },
    {
     "name": "stderr",
     "output_type": "stream",
     "text": [
      " 30%|███       | 15/50 [00:02<00:05,  6.46it/s]"
     ]
    },
    {
     "name": "stdout",
     "output_type": "stream",
     "text": [
      "tensor(7125.0459, device='cuda:0', grad_fn=<MulBackward0>)\n",
      "tensor(7109.3809, device='cuda:0', grad_fn=<MulBackward0>)\n"
     ]
    },
    {
     "name": "stderr",
     "output_type": "stream",
     "text": [
      " 34%|███▍      | 17/50 [00:02<00:05,  6.44it/s]"
     ]
    },
    {
     "name": "stdout",
     "output_type": "stream",
     "text": [
      "tensor(7105.4517, device='cuda:0', grad_fn=<MulBackward0>)\n",
      "tensor(7092.3989, device='cuda:0', grad_fn=<MulBackward0>)\n"
     ]
    },
    {
     "name": "stderr",
     "output_type": "stream",
     "text": [
      " 38%|███▊      | 19/50 [00:03<00:04,  6.44it/s]"
     ]
    },
    {
     "name": "stdout",
     "output_type": "stream",
     "text": [
      "tensor(7082.6479, device='cuda:0', grad_fn=<MulBackward0>)\n",
      "tensor(7082.3350, device='cuda:0', grad_fn=<MulBackward0>)\n"
     ]
    },
    {
     "name": "stderr",
     "output_type": "stream",
     "text": [
      " 42%|████▏     | 21/50 [00:03<00:04,  6.37it/s]"
     ]
    },
    {
     "name": "stdout",
     "output_type": "stream",
     "text": [
      "Iter 20/50, Loss: 7082.3350\n",
      "tensor(7090.8633, device='cuda:0', grad_fn=<MulBackward0>)\n"
     ]
    },
    {
     "name": "stderr",
     "output_type": "stream",
     "text": [
      " 44%|████▍     | 22/50 [00:03<00:04,  6.39it/s]"
     ]
    },
    {
     "name": "stdout",
     "output_type": "stream",
     "text": [
      "tensor(7075.6953, device='cuda:0', grad_fn=<MulBackward0>)\n",
      "tensor(7063.1709, device='cuda:0', grad_fn=<MulBackward0>)\n"
     ]
    },
    {
     "name": "stderr",
     "output_type": "stream",
     "text": [
      " 48%|████▊     | 24/50 [00:04<00:04,  6.26it/s]"
     ]
    },
    {
     "name": "stdout",
     "output_type": "stream",
     "text": [
      "tensor(7058.9380, device='cuda:0', grad_fn=<MulBackward0>)\n",
      "tensor(7053.3101, device='cuda:0', grad_fn=<MulBackward0>)\n"
     ]
    },
    {
     "name": "stderr",
     "output_type": "stream",
     "text": [
      " 52%|█████▏    | 26/50 [00:04<00:03,  6.37it/s]"
     ]
    },
    {
     "name": "stdout",
     "output_type": "stream",
     "text": [
      "tensor(7051.8525, device='cuda:0', grad_fn=<MulBackward0>)\n",
      "tensor(7052.8301, device='cuda:0', grad_fn=<MulBackward0>)\n"
     ]
    },
    {
     "name": "stderr",
     "output_type": "stream",
     "text": [
      " 56%|█████▌    | 28/50 [00:04<00:03,  6.46it/s]"
     ]
    },
    {
     "name": "stdout",
     "output_type": "stream",
     "text": [
      "tensor(7046.8115, device='cuda:0', grad_fn=<MulBackward0>)\n",
      "tensor(7037.4697, device='cuda:0', grad_fn=<MulBackward0>)\n"
     ]
    },
    {
     "name": "stderr",
     "output_type": "stream",
     "text": [
      " 60%|██████    | 30/50 [00:04<00:03,  6.38it/s]"
     ]
    },
    {
     "name": "stdout",
     "output_type": "stream",
     "text": [
      "tensor(7045.3345, device='cuda:0', grad_fn=<MulBackward0>)\n",
      "tensor(7041.4985, device='cuda:0', grad_fn=<MulBackward0>)\n"
     ]
    },
    {
     "name": "stderr",
     "output_type": "stream",
     "text": [
      " 64%|██████▍   | 32/50 [00:05<00:02,  6.54it/s]"
     ]
    },
    {
     "name": "stdout",
     "output_type": "stream",
     "text": [
      "tensor(7038.3970, device='cuda:0', grad_fn=<MulBackward0>)\n",
      "tensor(7038.3452, device='cuda:0', grad_fn=<MulBackward0>)\n"
     ]
    },
    {
     "name": "stderr",
     "output_type": "stream",
     "text": [
      " 68%|██████▊   | 34/50 [00:05<00:02,  6.21it/s]"
     ]
    },
    {
     "name": "stdout",
     "output_type": "stream",
     "text": [
      "tensor(7048.4004, device='cuda:0', grad_fn=<MulBackward0>)\n",
      "tensor(7037.5596, device='cuda:0', grad_fn=<MulBackward0>)\n"
     ]
    },
    {
     "name": "stderr",
     "output_type": "stream",
     "text": [
      " 72%|███████▏  | 36/50 [00:05<00:02,  6.15it/s]"
     ]
    },
    {
     "name": "stdout",
     "output_type": "stream",
     "text": [
      "tensor(7030.7705, device='cuda:0', grad_fn=<MulBackward0>)\n",
      "tensor(7039.5884, device='cuda:0', grad_fn=<MulBackward0>)\n"
     ]
    },
    {
     "name": "stderr",
     "output_type": "stream",
     "text": [
      " 76%|███████▌  | 38/50 [00:06<00:01,  6.00it/s]"
     ]
    },
    {
     "name": "stdout",
     "output_type": "stream",
     "text": [
      "tensor(7029.8984, device='cuda:0', grad_fn=<MulBackward0>)\n",
      "tensor(7039.0781, device='cuda:0', grad_fn=<MulBackward0>)\n"
     ]
    },
    {
     "name": "stderr",
     "output_type": "stream",
     "text": [
      " 80%|████████  | 40/50 [00:06<00:01,  6.04it/s]"
     ]
    },
    {
     "name": "stdout",
     "output_type": "stream",
     "text": [
      "tensor(7038.3647, device='cuda:0', grad_fn=<MulBackward0>)\n",
      "Iter 40/50, Loss: 7038.3647\n",
      "tensor(7027.7969, device='cuda:0', grad_fn=<MulBackward0>)\n"
     ]
    },
    {
     "name": "stderr",
     "output_type": "stream",
     "text": [
      " 84%|████████▍ | 42/50 [00:06<00:01,  5.88it/s]"
     ]
    },
    {
     "name": "stdout",
     "output_type": "stream",
     "text": [
      "tensor(7033.3838, device='cuda:0', grad_fn=<MulBackward0>)\n",
      "tensor(7039.6909, device='cuda:0', grad_fn=<MulBackward0>)\n"
     ]
    },
    {
     "name": "stderr",
     "output_type": "stream",
     "text": [
      " 88%|████████▊ | 44/50 [00:07<00:01,  5.85it/s]"
     ]
    },
    {
     "name": "stdout",
     "output_type": "stream",
     "text": [
      "tensor(7039.1421, device='cuda:0', grad_fn=<MulBackward0>)\n",
      "tensor(7040.2051, device='cuda:0', grad_fn=<MulBackward0>)\n"
     ]
    },
    {
     "name": "stderr",
     "output_type": "stream",
     "text": [
      " 92%|█████████▏| 46/50 [00:07<00:00,  6.14it/s]"
     ]
    },
    {
     "name": "stdout",
     "output_type": "stream",
     "text": [
      "tensor(7053.4971, device='cuda:0', grad_fn=<MulBackward0>)\n",
      "tensor(7036.5098, device='cuda:0', grad_fn=<MulBackward0>)\n"
     ]
    },
    {
     "name": "stderr",
     "output_type": "stream",
     "text": [
      " 96%|█████████▌| 48/50 [00:07<00:00,  5.85it/s]"
     ]
    },
    {
     "name": "stdout",
     "output_type": "stream",
     "text": [
      "tensor(7049.8164, device='cuda:0', grad_fn=<MulBackward0>)\n",
      "tensor(7050.3003, device='cuda:0', grad_fn=<MulBackward0>)\n"
     ]
    },
    {
     "name": "stderr",
     "output_type": "stream",
     "text": [
      "100%|██████████| 50/50 [00:08<00:00,  6.03it/s]\n"
     ]
    },
    {
     "name": "stdout",
     "output_type": "stream",
     "text": [
      "tensor(7051.0044, device='cuda:0', grad_fn=<MulBackward0>)\n"
     ]
    },
    {
     "name": "stderr",
     "output_type": "stream",
     "text": [
      "  0%|          | 0/50 [00:00<?, ?it/s]"
     ]
    },
    {
     "name": "stdout",
     "output_type": "stream",
     "text": [
      "tensor(7283.0908, device='cuda:0', grad_fn=<MulBackward0>)\n"
     ]
    },
    {
     "name": "stderr",
     "output_type": "stream",
     "text": [
      "  2%|▏         | 1/50 [00:00<00:13,  3.52it/s]"
     ]
    },
    {
     "name": "stdout",
     "output_type": "stream",
     "text": [
      "tensor(7241.1377, device='cuda:0', grad_fn=<MulBackward0>)\n"
     ]
    },
    {
     "name": "stderr",
     "output_type": "stream",
     "text": [
      "  4%|▍         | 2/50 [00:00<00:13,  3.46it/s]"
     ]
    },
    {
     "name": "stdout",
     "output_type": "stream",
     "text": [
      "tensor(7198.8662, device='cuda:0', grad_fn=<MulBackward0>)\n"
     ]
    },
    {
     "name": "stderr",
     "output_type": "stream",
     "text": [
      "  6%|▌         | 3/50 [00:00<00:13,  3.46it/s]"
     ]
    },
    {
     "name": "stdout",
     "output_type": "stream",
     "text": [
      "tensor(7156.2661, device='cuda:0', grad_fn=<MulBackward0>)\n"
     ]
    },
    {
     "name": "stderr",
     "output_type": "stream",
     "text": [
      "  8%|▊         | 4/50 [00:01<00:13,  3.44it/s]"
     ]
    },
    {
     "name": "stdout",
     "output_type": "stream",
     "text": [
      "tensor(7113.3442, device='cuda:0', grad_fn=<MulBackward0>)\n"
     ]
    },
    {
     "name": "stderr",
     "output_type": "stream",
     "text": [
      " 10%|█         | 5/50 [00:01<00:13,  3.45it/s]"
     ]
    },
    {
     "name": "stdout",
     "output_type": "stream",
     "text": [
      "tensor(7070.1045, device='cuda:0', grad_fn=<MulBackward0>)\n"
     ]
    },
    {
     "name": "stderr",
     "output_type": "stream",
     "text": [
      " 12%|█▏        | 6/50 [00:01<00:12,  3.45it/s]"
     ]
    },
    {
     "name": "stdout",
     "output_type": "stream",
     "text": [
      "tensor(7026.5439, device='cuda:0', grad_fn=<MulBackward0>)\n"
     ]
    },
    {
     "name": "stderr",
     "output_type": "stream",
     "text": [
      " 14%|█▍        | 7/50 [00:02<00:12,  3.45it/s]"
     ]
    },
    {
     "name": "stdout",
     "output_type": "stream",
     "text": [
      "tensor(6982.6416, device='cuda:0', grad_fn=<MulBackward0>)\n"
     ]
    },
    {
     "name": "stderr",
     "output_type": "stream",
     "text": [
      " 16%|█▌        | 8/50 [00:02<00:12,  3.44it/s]"
     ]
    },
    {
     "name": "stdout",
     "output_type": "stream",
     "text": [
      "tensor(6938.4150, device='cuda:0', grad_fn=<MulBackward0>)\n"
     ]
    },
    {
     "name": "stderr",
     "output_type": "stream",
     "text": [
      " 18%|█▊        | 9/50 [00:02<00:11,  3.45it/s]"
     ]
    },
    {
     "name": "stdout",
     "output_type": "stream",
     "text": [
      "tensor(6893.9233, device='cuda:0', grad_fn=<MulBackward0>)\n"
     ]
    },
    {
     "name": "stderr",
     "output_type": "stream",
     "text": [
      " 20%|██        | 10/50 [00:02<00:11,  3.44it/s]"
     ]
    },
    {
     "name": "stdout",
     "output_type": "stream",
     "text": [
      "tensor(6848.9771, device='cuda:0', grad_fn=<MulBackward0>)\n"
     ]
    },
    {
     "name": "stderr",
     "output_type": "stream",
     "text": [
      " 22%|██▏       | 11/50 [00:03<00:11,  3.45it/s]"
     ]
    },
    {
     "name": "stdout",
     "output_type": "stream",
     "text": [
      "tensor(6803.7690, device='cuda:0', grad_fn=<MulBackward0>)\n"
     ]
    },
    {
     "name": "stderr",
     "output_type": "stream",
     "text": [
      " 24%|██▍       | 12/50 [00:03<00:11,  3.44it/s]"
     ]
    },
    {
     "name": "stdout",
     "output_type": "stream",
     "text": [
      "tensor(6758.2373, device='cuda:0', grad_fn=<MulBackward0>)\n"
     ]
    },
    {
     "name": "stderr",
     "output_type": "stream",
     "text": [
      " 26%|██▌       | 13/50 [00:03<00:10,  3.45it/s]"
     ]
    },
    {
     "name": "stdout",
     "output_type": "stream",
     "text": [
      "tensor(6712.3838, device='cuda:0', grad_fn=<MulBackward0>)\n"
     ]
    },
    {
     "name": "stderr",
     "output_type": "stream",
     "text": [
      " 28%|██▊       | 14/50 [00:04<00:10,  3.45it/s]"
     ]
    },
    {
     "name": "stdout",
     "output_type": "stream",
     "text": [
      "tensor(6666.1738, device='cuda:0', grad_fn=<MulBackward0>)\n"
     ]
    },
    {
     "name": "stderr",
     "output_type": "stream",
     "text": [
      " 30%|███       | 15/50 [00:04<00:10,  3.45it/s]"
     ]
    },
    {
     "name": "stdout",
     "output_type": "stream",
     "text": [
      "tensor(6619.6597, device='cuda:0', grad_fn=<MulBackward0>)\n"
     ]
    },
    {
     "name": "stderr",
     "output_type": "stream",
     "text": [
      " 32%|███▏      | 16/50 [00:04<00:09,  3.44it/s]"
     ]
    },
    {
     "name": "stdout",
     "output_type": "stream",
     "text": [
      "tensor(6572.8335, device='cuda:0', grad_fn=<MulBackward0>)\n"
     ]
    },
    {
     "name": "stderr",
     "output_type": "stream",
     "text": [
      " 34%|███▍      | 17/50 [00:04<00:09,  3.44it/s]"
     ]
    },
    {
     "name": "stdout",
     "output_type": "stream",
     "text": [
      "tensor(6525.6548, device='cuda:0', grad_fn=<MulBackward0>)\n"
     ]
    },
    {
     "name": "stderr",
     "output_type": "stream",
     "text": [
      " 36%|███▌      | 18/50 [00:05<00:09,  3.44it/s]"
     ]
    },
    {
     "name": "stdout",
     "output_type": "stream",
     "text": [
      "tensor(6478.1831, device='cuda:0', grad_fn=<MulBackward0>)\n"
     ]
    },
    {
     "name": "stderr",
     "output_type": "stream",
     "text": [
      " 38%|███▊      | 19/50 [00:05<00:09,  3.44it/s]"
     ]
    },
    {
     "name": "stdout",
     "output_type": "stream",
     "text": [
      "tensor(6430.4429, device='cuda:0', grad_fn=<MulBackward0>)\n"
     ]
    },
    {
     "name": "stderr",
     "output_type": "stream",
     "text": [
      " 40%|████      | 20/50 [00:05<00:08,  3.45it/s]"
     ]
    },
    {
     "name": "stdout",
     "output_type": "stream",
     "text": [
      "Iter 20/50, Loss: 6430.4429\n",
      "tensor(6382.3496, device='cuda:0', grad_fn=<MulBackward0>)\n"
     ]
    },
    {
     "name": "stderr",
     "output_type": "stream",
     "text": [
      " 42%|████▏     | 21/50 [00:06<00:08,  3.45it/s]"
     ]
    },
    {
     "name": "stdout",
     "output_type": "stream",
     "text": [
      "tensor(6333.8428, device='cuda:0', grad_fn=<MulBackward0>)\n"
     ]
    },
    {
     "name": "stderr",
     "output_type": "stream",
     "text": [
      " 44%|████▍     | 22/50 [00:06<00:08,  3.44it/s]"
     ]
    },
    {
     "name": "stdout",
     "output_type": "stream",
     "text": [
      "tensor(6285.1626, device='cuda:0', grad_fn=<MulBackward0>)\n"
     ]
    },
    {
     "name": "stderr",
     "output_type": "stream",
     "text": [
      " 46%|████▌     | 23/50 [00:06<00:07,  3.45it/s]"
     ]
    },
    {
     "name": "stdout",
     "output_type": "stream",
     "text": [
      "tensor(6236.0410, device='cuda:0', grad_fn=<MulBackward0>)\n"
     ]
    },
    {
     "name": "stderr",
     "output_type": "stream",
     "text": [
      " 48%|████▊     | 24/50 [00:06<00:07,  3.49it/s]"
     ]
    },
    {
     "name": "stdout",
     "output_type": "stream",
     "text": [
      "tensor(6186.6851, device='cuda:0', grad_fn=<MulBackward0>)\n"
     ]
    },
    {
     "name": "stderr",
     "output_type": "stream",
     "text": [
      " 50%|█████     | 25/50 [00:07<00:07,  3.43it/s]"
     ]
    },
    {
     "name": "stdout",
     "output_type": "stream",
     "text": [
      "tensor(6137.1187, device='cuda:0', grad_fn=<MulBackward0>)\n"
     ]
    },
    {
     "name": "stderr",
     "output_type": "stream",
     "text": [
      " 52%|█████▏    | 26/50 [00:07<00:06,  3.43it/s]"
     ]
    },
    {
     "name": "stdout",
     "output_type": "stream",
     "text": [
      "tensor(6087.1045, device='cuda:0', grad_fn=<MulBackward0>)\n"
     ]
    },
    {
     "name": "stderr",
     "output_type": "stream",
     "text": [
      " 54%|█████▍    | 27/50 [00:07<00:06,  3.43it/s]"
     ]
    },
    {
     "name": "stdout",
     "output_type": "stream",
     "text": [
      "tensor(6036.8555, device='cuda:0', grad_fn=<MulBackward0>)\n"
     ]
    },
    {
     "name": "stderr",
     "output_type": "stream",
     "text": [
      " 56%|█████▌    | 28/50 [00:08<00:06,  3.43it/s]"
     ]
    },
    {
     "name": "stdout",
     "output_type": "stream",
     "text": [
      "tensor(5986.4277, device='cuda:0', grad_fn=<MulBackward0>)\n"
     ]
    },
    {
     "name": "stderr",
     "output_type": "stream",
     "text": [
      " 58%|█████▊    | 29/50 [00:08<00:06,  3.43it/s]"
     ]
    },
    {
     "name": "stdout",
     "output_type": "stream",
     "text": [
      "tensor(5935.5854, device='cuda:0', grad_fn=<MulBackward0>)\n"
     ]
    },
    {
     "name": "stderr",
     "output_type": "stream",
     "text": [
      " 60%|██████    | 30/50 [00:08<00:05,  3.44it/s]"
     ]
    },
    {
     "name": "stdout",
     "output_type": "stream",
     "text": [
      "tensor(5884.4092, device='cuda:0', grad_fn=<MulBackward0>)\n"
     ]
    },
    {
     "name": "stderr",
     "output_type": "stream",
     "text": [
      " 62%|██████▏   | 31/50 [00:08<00:05,  3.44it/s]"
     ]
    },
    {
     "name": "stdout",
     "output_type": "stream",
     "text": [
      "tensor(5833.0391, device='cuda:0', grad_fn=<MulBackward0>)\n"
     ]
    },
    {
     "name": "stderr",
     "output_type": "stream",
     "text": [
      " 64%|██████▍   | 32/50 [00:09<00:05,  3.44it/s]"
     ]
    },
    {
     "name": "stdout",
     "output_type": "stream",
     "text": [
      "tensor(5781.4014, device='cuda:0', grad_fn=<MulBackward0>)\n"
     ]
    },
    {
     "name": "stderr",
     "output_type": "stream",
     "text": [
      " 66%|██████▌   | 33/50 [00:09<00:04,  3.44it/s]"
     ]
    },
    {
     "name": "stdout",
     "output_type": "stream",
     "text": [
      "tensor(5729.4922, device='cuda:0', grad_fn=<MulBackward0>)\n"
     ]
    },
    {
     "name": "stderr",
     "output_type": "stream",
     "text": [
      " 68%|██████▊   | 34/50 [00:09<00:04,  3.43it/s]"
     ]
    },
    {
     "name": "stdout",
     "output_type": "stream",
     "text": [
      "tensor(5677.3237, device='cuda:0', grad_fn=<MulBackward0>)\n"
     ]
    },
    {
     "name": "stderr",
     "output_type": "stream",
     "text": [
      " 70%|███████   | 35/50 [00:10<00:04,  3.43it/s]"
     ]
    },
    {
     "name": "stdout",
     "output_type": "stream",
     "text": [
      "tensor(5624.8960, device='cuda:0', grad_fn=<MulBackward0>)\n"
     ]
    },
    {
     "name": "stderr",
     "output_type": "stream",
     "text": [
      " 72%|███████▏  | 36/50 [00:10<00:04,  3.43it/s]"
     ]
    },
    {
     "name": "stdout",
     "output_type": "stream",
     "text": [
      "tensor(5572.2148, device='cuda:0', grad_fn=<MulBackward0>)\n"
     ]
    },
    {
     "name": "stderr",
     "output_type": "stream",
     "text": [
      " 74%|███████▍  | 37/50 [00:10<00:03,  3.43it/s]"
     ]
    },
    {
     "name": "stdout",
     "output_type": "stream",
     "text": [
      "tensor(5519.3062, device='cuda:0', grad_fn=<MulBackward0>)\n"
     ]
    },
    {
     "name": "stderr",
     "output_type": "stream",
     "text": [
      " 76%|███████▌  | 38/50 [00:11<00:03,  3.43it/s]"
     ]
    },
    {
     "name": "stdout",
     "output_type": "stream",
     "text": [
      "tensor(5466.1406, device='cuda:0', grad_fn=<MulBackward0>)\n"
     ]
    },
    {
     "name": "stderr",
     "output_type": "stream",
     "text": [
      " 78%|███████▊  | 39/50 [00:11<00:03,  3.43it/s]"
     ]
    },
    {
     "name": "stdout",
     "output_type": "stream",
     "text": [
      "tensor(5412.8135, device='cuda:0', grad_fn=<MulBackward0>)\n"
     ]
    },
    {
     "name": "stderr",
     "output_type": "stream",
     "text": [
      " 80%|████████  | 40/50 [00:11<00:02,  3.43it/s]"
     ]
    },
    {
     "name": "stdout",
     "output_type": "stream",
     "text": [
      "Iter 40/50, Loss: 5412.8135\n",
      "tensor(5359.1797, device='cuda:0', grad_fn=<MulBackward0>)\n"
     ]
    },
    {
     "name": "stderr",
     "output_type": "stream",
     "text": [
      " 82%|████████▏ | 41/50 [00:11<00:02,  3.42it/s]"
     ]
    },
    {
     "name": "stdout",
     "output_type": "stream",
     "text": [
      "tensor(5305.2236, device='cuda:0', grad_fn=<MulBackward0>)\n"
     ]
    },
    {
     "name": "stderr",
     "output_type": "stream",
     "text": [
      " 84%|████████▍ | 42/50 [00:12<00:02,  3.42it/s]"
     ]
    },
    {
     "name": "stdout",
     "output_type": "stream",
     "text": [
      "tensor(5251.1460, device='cuda:0', grad_fn=<MulBackward0>)\n"
     ]
    },
    {
     "name": "stderr",
     "output_type": "stream",
     "text": [
      " 86%|████████▌ | 43/50 [00:12<00:02,  3.42it/s]"
     ]
    },
    {
     "name": "stdout",
     "output_type": "stream",
     "text": [
      "tensor(5196.8413, device='cuda:0', grad_fn=<MulBackward0>)\n"
     ]
    },
    {
     "name": "stderr",
     "output_type": "stream",
     "text": [
      " 88%|████████▊ | 44/50 [00:12<00:01,  3.42it/s]"
     ]
    },
    {
     "name": "stdout",
     "output_type": "stream",
     "text": [
      "tensor(5142.3452, device='cuda:0', grad_fn=<MulBackward0>)\n"
     ]
    },
    {
     "name": "stderr",
     "output_type": "stream",
     "text": [
      " 90%|█████████ | 45/50 [00:13<00:01,  3.43it/s]"
     ]
    },
    {
     "name": "stdout",
     "output_type": "stream",
     "text": [
      "tensor(5087.6162, device='cuda:0', grad_fn=<MulBackward0>)\n"
     ]
    },
    {
     "name": "stderr",
     "output_type": "stream",
     "text": [
      " 92%|█████████▏| 46/50 [00:13<00:01,  3.42it/s]"
     ]
    },
    {
     "name": "stdout",
     "output_type": "stream",
     "text": [
      "tensor(5032.6997, device='cuda:0', grad_fn=<MulBackward0>)\n"
     ]
    },
    {
     "name": "stderr",
     "output_type": "stream",
     "text": [
      " 94%|█████████▍| 47/50 [00:13<00:00,  3.42it/s]"
     ]
    },
    {
     "name": "stdout",
     "output_type": "stream",
     "text": [
      "tensor(4977.5830, device='cuda:0', grad_fn=<MulBackward0>)\n"
     ]
    },
    {
     "name": "stderr",
     "output_type": "stream",
     "text": [
      " 96%|█████████▌| 48/50 [00:13<00:00,  3.42it/s]"
     ]
    },
    {
     "name": "stdout",
     "output_type": "stream",
     "text": [
      "tensor(4922.3926, device='cuda:0', grad_fn=<MulBackward0>)\n"
     ]
    },
    {
     "name": "stderr",
     "output_type": "stream",
     "text": [
      " 98%|█████████▊| 49/50 [00:14<00:00,  3.42it/s]"
     ]
    },
    {
     "name": "stdout",
     "output_type": "stream",
     "text": [
      "tensor(4866.8970, device='cuda:0', grad_fn=<MulBackward0>)\n"
     ]
    },
    {
     "name": "stderr",
     "output_type": "stream",
     "text": [
      "100%|██████████| 50/50 [00:14<00:00,  3.44it/s]\n"
     ]
    },
    {
     "data": {
      "image/png": "[encoded data removed]",
      "text/plain": [
       "<Figure size 1200x500 with 3 Axes>"
      ]
     },
     "metadata": {},
     "output_type": "display_data"
    }
   ],
   "source": [
    "import time\n",
    "import numpy as np\n",
    "import torch\n",
    "import matplotlib.pyplot as plt\n",
    "from tqdm import tqdm\n",
    "\n",
    "def train(model, train_x, train_y, test_x, test_y, training_iterations=100, lr=0.1):\n",
    "    optimizer = torch.optim.Adam([\n",
    "        {'params': model.kernel.parameters()}, \n",
    "        {'params': [model.noise.u]}  # Use raw_value instead of noise()\n",
    "    ], lr=lr)\n",
    "    \n",
    "    runtime_log, mll_loss_log, test_rmse_log = [], [], []\n",
    "    \n",
    "    for i in tqdm(range(training_iterations)):\n",
    "        start_time = time.time()\n",
    "        \n",
    "        optimizer.zero_grad()\n",
    "        model.fit(train_x, train_y)\n",
    "        loss = model.compute_mll(train_y)\n",
    "        print(loss)\n",
    "        loss.backward()\n",
    "        optimizer.step()\n",
    "        \n",
    "        mean, covar = model.predict(test_x)\n",
    "        \n",
    "        total_time = time.time() - start_time\n",
    "        runtime_log.append(total_time)\n",
    "        mll_loss_log.append(-loss.item())  # Logging positive MLL value\n",
    "        \n",
    "        test_rmse = torch.mean(torch.abs(mean.detach().cpu()- test_y)).item()\n",
    "        test_rmse_log.append(test_rmse)\n",
    "        \n",
    "        if (i + 1) % 20 == 0:\n",
    "            print(f'Iter {i+1}/{training_iterations}, Loss: {loss.item():.4f}')\n",
    "    \n",
    "    return model, runtime_log, mll_loss_log, test_rmse_log, mean, covar\n",
    "\n",
    "# Example usage:\n",
    "# Assuming that model_igp and model_cgp are instantiated GP models (Iterative GP and Cholesky GP respectively),\n",
    "# and train_x, train_y, test_x, test_y are already defined.\n",
    "base_kernel = MaternKernel(ard_num_dims=train_x.shape[-1], lengthscale_prior=GammaPrior(3.0, 6.0), nu=1.5)\n",
    "kernel = ScaleKernel(base_kernel, outputscale_prior=GammaPrior(2.0, 0.15)).to(device)\n",
    "\n",
    "cgp = CholeskyGaussianProcess(kernel=kernel, dtype=global_dtype, noise=0.4, device=device)\n",
    "\n",
    "\n",
    "base_kernel = MaternKernel(ard_num_dims=train_x.shape[-1], lengthscale_prior=GammaPrior(3.0, 6.0), nu=1.5)\n",
    "kernel = ScaleKernel(base_kernel, outputscale_prior=GammaPrior(2.0, 0.15)).to(device)\n",
    "\n",
    "igp = IterativeGaussianProcess(kernel=kernel, noise=0.4, dtype=global_dtype, device=device,\n",
    "                               cg_tol=1e-2, cg_max_iter=100, warm_start=True, num_probes=16,\n",
    "                               precon_type=\"identity\", trace_backend=\"Hutch\",\n",
    "                               verbose=False, track_iterations=False, \n",
    "                               pred_lanczos_rank=train_x.shape[0], compute_covariance=False)\n",
    "                               \n",
    "# Train the iterative GP model\n",
    "model_igp, runtime_log_igp, mll_loss_log_igp, test_rmse_log_igp, mean_igp, covar_igp = train(igp, train_x, train_y, test_x, test_y, training_iterations=50, lr=0.01)\n",
    "\n",
    "# Train the Cholesky-based GP model\n",
    "model_cgp, runtime_log_cgp, mll_loss_log_cgp, test_rmse_log_cgp, mean_cgp, covar_cgp = train(cgp, train_x, train_y, test_x, test_y, training_iterations=50, lr=0.01)\n",
    "\n",
    "# ----------------------------\n",
    "# Two-Panel Plot: RMSE, MLL, and Runtime\n",
    "# ----------------------------\n",
    "fig, axes = plt.subplots(1, 3, figsize=(12, 5))\n",
    "\n",
    "# Plot RMSE comparison: |μ - yₜᵣᵤₑ|\n",
    "axes[0].plot(test_rmse_log_igp, label=\"IGP Test RMSE\")\n",
    "axes[0].plot(test_rmse_log_cgp, label=\"CGP Test RMSE\")\n",
    "axes[0].set_xlabel(\"Iteration\")\n",
    "axes[0].set_ylabel(\"Test RMSE\")\n",
    "axes[0].set_title(r\"Test RMSE Comparison: $|\\mu - y_{\\text{true}}|$\")\n",
    "axes[0].legend()\n",
    "\n",
    "# Plot MLL comparison: -𝓛 (where a lower negative loss indicates a higher likelihood)\n",
    "axes[1].plot(mll_loss_log_igp, label=\"IGP MLL\")\n",
    "axes[1].plot(mll_loss_log_cgp, label=\"CGP MLL\")\n",
    "axes[1].set_xlabel(\"Iteration\")\n",
    "axes[1].set_ylabel(\"Marginal Log Likelihood (Positive)\")\n",
    "axes[1].set_title(r\"MLL Comparison: $-\\mathcal{L}$\")\n",
    "axes[1].legend()\n",
    "\n",
    "# Plot runtime per iteration\n",
    "axes[2].plot(runtime_log_igp, label=\"IGP Runtime\")\n",
    "axes[2].plot(runtime_log_cgp, label=\"CGP Runtime\")\n",
    "axes[2].set_xlabel(\"Iteration\")\n",
    "axes[2].set_ylabel(\"Runtime (seconds)\")\n",
    "axes[2].set_title(r\"Runtime per Iteration\")\n",
    "axes[2].legend()\n",
    "\n",
    "plt.tight_layout()\n",
    "plt.show()"
   ]
  },
  {
   "cell_type": "code",
   "execution_count": 2,
   "metadata": {},
   "outputs": [
    {
     "name": "stderr",
     "output_type": "stream",
     "text": [
      "  0%|          | 0/50 [00:00<?, ?it/s]c:\\Users\\fredw\\chris\\Research\\RandomIterativeGP\\randomGP2\\code\\gps.py:336: UserWarning: The use of `x.T` on tensors of dimension other than 2 to reverse their shape is deprecated and it will throw an error in a future release. Consider `x.mT` to transpose batches of matrices or `x.permute(*torch.arange(x.ndim - 1, -1, -1))` to reverse the dimensions of a tensor. (Triggered internally at C:\\actions-runner\\_work\\pytorch\\pytorch\\builder\\windows\\pytorch\\aten\\src\\ATen\\native\\TensorShape.cpp:3687.)\n",
      "  quadratic = y.T @ self.alpha\n"
     ]
    },
    {
     "name": "stdout",
     "output_type": "stream",
     "text": [
      "tensor(7275.2563, device='cuda:0', grad_fn=<MulBackward0>)\n"
     ]
    },
    {
     "name": "stderr",
     "output_type": "stream",
     "text": [
      "  4%|▍         | 2/50 [00:00<00:15,  3.12it/s]"
     ]
    },
    {
     "name": "stdout",
     "output_type": "stream",
     "text": [
      "tensor(7266.4336, device='cuda:0', grad_fn=<MulBackward0>)\n",
      "tensor(7241.1074, device='cuda:0', grad_fn=<MulBackward0>)\n"
     ]
    },
    {
     "name": "stderr",
     "output_type": "stream",
     "text": [
      "  8%|▊         | 4/50 [00:01<00:09,  4.73it/s]"
     ]
    },
    {
     "name": "stdout",
     "output_type": "stream",
     "text": [
      "tensor(7239.3584, device='cuda:0', grad_fn=<MulBackward0>)\n",
      "tensor(7221.5938, device='cuda:0', grad_fn=<MulBackward0>)\n"
     ]
    },
    {
     "name": "stderr",
     "output_type": "stream",
     "text": [
      " 12%|█▏        | 6/50 [00:01<00:07,  5.68it/s]"
     ]
    },
    {
     "name": "stdout",
     "output_type": "stream",
     "text": [
      "tensor(7208.7485, device='cuda:0', grad_fn=<MulBackward0>)\n",
      "tensor(7203.1797, device='cuda:0', grad_fn=<MulBackward0>)\n"
     ]
    },
    {
     "name": "stderr",
     "output_type": "stream",
     "text": [
      " 16%|█▌        | 8/50 [00:01<00:06,  6.06it/s]"
     ]
    },
    {
     "name": "stdout",
     "output_type": "stream",
     "text": [
      "tensor(7176.4648, device='cuda:0', grad_fn=<MulBackward0>)\n",
      "tensor(7180.7500, device='cuda:0', grad_fn=<MulBackward0>)\n"
     ]
    },
    {
     "name": "stderr",
     "output_type": "stream",
     "text": [
      " 20%|██        | 10/50 [00:01<00:06,  6.18it/s]"
     ]
    },
    {
     "name": "stdout",
     "output_type": "stream",
     "text": [
      "tensor(7168.6738, device='cuda:0', grad_fn=<MulBackward0>)\n",
      "tensor(7153.7002, device='cuda:0', grad_fn=<MulBackward0>)\n"
     ]
    },
    {
     "name": "stderr",
     "output_type": "stream",
     "text": [
      " 24%|██▍       | 12/50 [00:02<00:05,  6.42it/s]"
     ]
    },
    {
     "name": "stdout",
     "output_type": "stream",
     "text": [
      "tensor(7151.2666, device='cuda:0', grad_fn=<MulBackward0>)\n",
      "tensor(7132.6475, device='cuda:0', grad_fn=<MulBackward0>)\n"
     ]
    },
    {
     "name": "stderr",
     "output_type": "stream",
     "text": [
      " 28%|██▊       | 14/50 [00:02<00:05,  6.33it/s]"
     ]
    },
    {
     "name": "stdout",
     "output_type": "stream",
     "text": [
      "tensor(7136.7568, device='cuda:0', grad_fn=<MulBackward0>)\n",
      "tensor(7120.7246, device='cuda:0', grad_fn=<MulBackward0>)\n"
     ]
    },
    {
     "name": "stderr",
     "output_type": "stream",
     "text": [
      " 32%|███▏      | 16/50 [00:02<00:05,  6.31it/s]"
     ]
    },
    {
     "name": "stdout",
     "output_type": "stream",
     "text": [
      "tensor(7120.3936, device='cuda:0', grad_fn=<MulBackward0>)\n",
      "tensor(7105.1138, device='cuda:0', grad_fn=<MulBackward0>)\n"
     ]
    },
    {
     "name": "stderr",
     "output_type": "stream",
     "text": [
      " 36%|███▌      | 18/50 [00:03<00:05,  6.27it/s]"
     ]
    },
    {
     "name": "stdout",
     "output_type": "stream",
     "text": [
      "tensor(7103.7632, device='cuda:0', grad_fn=<MulBackward0>)\n",
      "tensor(7097.3960, device='cuda:0', grad_fn=<MulBackward0>)\n"
     ]
    },
    {
     "name": "stderr",
     "output_type": "stream",
     "text": [
      " 40%|████      | 20/50 [00:03<00:04,  6.27it/s]"
     ]
    },
    {
     "name": "stdout",
     "output_type": "stream",
     "text": [
      "tensor(7079.0005, device='cuda:0', grad_fn=<MulBackward0>)\n",
      "Iter 20/50, Loss: 7079.0005\n",
      "tensor(7077.1875, device='cuda:0', grad_fn=<MulBackward0>)\n"
     ]
    },
    {
     "name": "stderr",
     "output_type": "stream",
     "text": [
      " 44%|████▍     | 22/50 [00:03<00:04,  6.33it/s]"
     ]
    },
    {
     "name": "stdout",
     "output_type": "stream",
     "text": [
      "tensor(7069.9292, device='cuda:0', grad_fn=<MulBackward0>)\n",
      "tensor(7064.2393, device='cuda:0', grad_fn=<MulBackward0>)\n"
     ]
    },
    {
     "name": "stderr",
     "output_type": "stream",
     "text": [
      " 48%|████▊     | 24/50 [00:04<00:04,  6.32it/s]"
     ]
    },
    {
     "name": "stdout",
     "output_type": "stream",
     "text": [
      "tensor(7061.6211, device='cuda:0', grad_fn=<MulBackward0>)\n",
      "tensor(7060.0488, device='cuda:0', grad_fn=<MulBackward0>)\n"
     ]
    },
    {
     "name": "stderr",
     "output_type": "stream",
     "text": [
      " 52%|█████▏    | 26/50 [00:04<00:03,  6.27it/s]"
     ]
    },
    {
     "name": "stdout",
     "output_type": "stream",
     "text": [
      "tensor(7053.7222, device='cuda:0', grad_fn=<MulBackward0>)\n",
      "tensor(7044.3237, device='cuda:0', grad_fn=<MulBackward0>)\n"
     ]
    },
    {
     "name": "stderr",
     "output_type": "stream",
     "text": [
      " 56%|█████▌    | 28/50 [00:04<00:03,  6.22it/s]"
     ]
    },
    {
     "name": "stdout",
     "output_type": "stream",
     "text": [
      "tensor(7046.6938, device='cuda:0', grad_fn=<MulBackward0>)\n",
      "tensor(7039.0713, device='cuda:0', grad_fn=<MulBackward0>)\n"
     ]
    },
    {
     "name": "stderr",
     "output_type": "stream",
     "text": [
      " 60%|██████    | 30/50 [00:05<00:03,  6.13it/s]"
     ]
    },
    {
     "name": "stdout",
     "output_type": "stream",
     "text": [
      "tensor(7039.1016, device='cuda:0', grad_fn=<MulBackward0>)\n",
      "tensor(7033.5059, device='cuda:0', grad_fn=<MulBackward0>)\n"
     ]
    },
    {
     "name": "stderr",
     "output_type": "stream",
     "text": [
      " 64%|██████▍   | 32/50 [00:05<00:02,  6.20it/s]"
     ]
    },
    {
     "name": "stdout",
     "output_type": "stream",
     "text": [
      "tensor(7035.1782, device='cuda:0', grad_fn=<MulBackward0>)\n",
      "tensor(7037.3545, device='cuda:0', grad_fn=<MulBackward0>)\n"
     ]
    },
    {
     "name": "stderr",
     "output_type": "stream",
     "text": [
      " 68%|██████▊   | 34/50 [00:05<00:02,  6.30it/s]"
     ]
    },
    {
     "name": "stdout",
     "output_type": "stream",
     "text": [
      "tensor(7027.9097, device='cuda:0', grad_fn=<MulBackward0>)\n",
      "tensor(7036.5151, device='cuda:0', grad_fn=<MulBackward0>)\n"
     ]
    },
    {
     "name": "stderr",
     "output_type": "stream",
     "text": [
      " 72%|███████▏  | 36/50 [00:06<00:02,  6.26it/s]"
     ]
    },
    {
     "name": "stdout",
     "output_type": "stream",
     "text": [
      "tensor(7035.5962, device='cuda:0', grad_fn=<MulBackward0>)\n",
      "tensor(7041.2720, device='cuda:0', grad_fn=<MulBackward0>)\n"
     ]
    },
    {
     "name": "stderr",
     "output_type": "stream",
     "text": [
      " 76%|███████▌  | 38/50 [00:06<00:01,  6.15it/s]"
     ]
    },
    {
     "name": "stdout",
     "output_type": "stream",
     "text": [
      "tensor(7028.8770, device='cuda:0', grad_fn=<MulBackward0>)\n",
      "tensor(7044.4336, device='cuda:0', grad_fn=<MulBackward0>)\n"
     ]
    },
    {
     "name": "stderr",
     "output_type": "stream",
     "text": [
      " 80%|████████  | 40/50 [00:06<00:01,  6.01it/s]"
     ]
    },
    {
     "name": "stdout",
     "output_type": "stream",
     "text": [
      "tensor(7046.0264, device='cuda:0', grad_fn=<MulBackward0>)\n",
      "Iter 40/50, Loss: 7046.0264\n",
      "tensor(7037.2100, device='cuda:0', grad_fn=<MulBackward0>)\n"
     ]
    },
    {
     "name": "stderr",
     "output_type": "stream",
     "text": [
      " 84%|████████▍ | 42/50 [00:07<00:01,  5.79it/s]"
     ]
    },
    {
     "name": "stdout",
     "output_type": "stream",
     "text": [
      "tensor(7040.6807, device='cuda:0', grad_fn=<MulBackward0>)\n",
      "tensor(7048.5420, device='cuda:0', grad_fn=<MulBackward0>)\n"
     ]
    },
    {
     "name": "stderr",
     "output_type": "stream",
     "text": [
      " 88%|████████▊ | 44/50 [00:07<00:01,  5.80it/s]"
     ]
    },
    {
     "name": "stdout",
     "output_type": "stream",
     "text": [
      "tensor(7049.3389, device='cuda:0', grad_fn=<MulBackward0>)\n",
      "tensor(7052.3369, device='cuda:0', grad_fn=<MulBackward0>)\n"
     ]
    },
    {
     "name": "stderr",
     "output_type": "stream",
     "text": [
      " 92%|█████████▏| 46/50 [00:07<00:00,  5.82it/s]"
     ]
    },
    {
     "name": "stdout",
     "output_type": "stream",
     "text": [
      "tensor(7048.0186, device='cuda:0', grad_fn=<MulBackward0>)\n",
      "tensor(7039.3213, device='cuda:0', grad_fn=<MulBackward0>)\n"
     ]
    },
    {
     "name": "stderr",
     "output_type": "stream",
     "text": [
      " 96%|█████████▌| 48/50 [00:08<00:00,  6.06it/s]"
     ]
    },
    {
     "name": "stdout",
     "output_type": "stream",
     "text": [
      "tensor(7050.5830, device='cuda:0', grad_fn=<MulBackward0>)\n",
      "tensor(7057.4907, device='cuda:0', grad_fn=<MulBackward0>)\n"
     ]
    },
    {
     "name": "stderr",
     "output_type": "stream",
     "text": [
      "100%|██████████| 50/50 [00:08<00:00,  5.89it/s]\n"
     ]
    },
    {
     "name": "stdout",
     "output_type": "stream",
     "text": [
      "tensor(7045.1689, device='cuda:0', grad_fn=<MulBackward0>)\n"
     ]
    },
    {
     "name": "stderr",
     "output_type": "stream",
     "text": [
      "  0%|          | 0/50 [00:00<?, ?it/s]"
     ]
    },
    {
     "name": "stdout",
     "output_type": "stream",
     "text": [
      "tensor(7283.0908, device='cuda:0', grad_fn=<MulBackward0>)\n"
     ]
    },
    {
     "name": "stderr",
     "output_type": "stream",
     "text": [
      "  2%|▏         | 1/50 [00:00<00:14,  3.45it/s]"
     ]
    },
    {
     "name": "stdout",
     "output_type": "stream",
     "text": [
      "tensor(7241.1377, device='cuda:0', grad_fn=<MulBackward0>)\n"
     ]
    },
    {
     "name": "stderr",
     "output_type": "stream",
     "text": [
      "  4%|▍         | 2/50 [00:00<00:14,  3.41it/s]"
     ]
    },
    {
     "name": "stdout",
     "output_type": "stream",
     "text": [
      "tensor(7198.8662, device='cuda:0', grad_fn=<MulBackward0>)\n"
     ]
    },
    {
     "name": "stderr",
     "output_type": "stream",
     "text": [
      "  6%|▌         | 3/50 [00:00<00:13,  3.42it/s]"
     ]
    },
    {
     "name": "stdout",
     "output_type": "stream",
     "text": [
      "tensor(7156.2661, device='cuda:0', grad_fn=<MulBackward0>)\n"
     ]
    },
    {
     "name": "stderr",
     "output_type": "stream",
     "text": [
      "  8%|▊         | 4/50 [00:01<00:13,  3.42it/s]"
     ]
    },
    {
     "name": "stdout",
     "output_type": "stream",
     "text": [
      "tensor(7113.3442, device='cuda:0', grad_fn=<MulBackward0>)\n"
     ]
    },
    {
     "name": "stderr",
     "output_type": "stream",
     "text": [
      " 10%|█         | 5/50 [00:01<00:13,  3.42it/s]"
     ]
    },
    {
     "name": "stdout",
     "output_type": "stream",
     "text": [
      "tensor(7070.1045, device='cuda:0', grad_fn=<MulBackward0>)\n"
     ]
    },
    {
     "name": "stderr",
     "output_type": "stream",
     "text": [
      " 12%|█▏        | 6/50 [00:01<00:12,  3.42it/s]"
     ]
    },
    {
     "name": "stdout",
     "output_type": "stream",
     "text": [
      "tensor(7026.5439, device='cuda:0', grad_fn=<MulBackward0>)\n"
     ]
    },
    {
     "name": "stderr",
     "output_type": "stream",
     "text": [
      " 14%|█▍        | 7/50 [00:02<00:12,  3.41it/s]"
     ]
    },
    {
     "name": "stdout",
     "output_type": "stream",
     "text": [
      "tensor(6982.6416, device='cuda:0', grad_fn=<MulBackward0>)\n"
     ]
    },
    {
     "name": "stderr",
     "output_type": "stream",
     "text": [
      " 16%|█▌        | 8/50 [00:02<00:12,  3.42it/s]"
     ]
    },
    {
     "name": "stdout",
     "output_type": "stream",
     "text": [
      "tensor(6938.4150, device='cuda:0', grad_fn=<MulBackward0>)\n"
     ]
    },
    {
     "name": "stderr",
     "output_type": "stream",
     "text": [
      " 18%|█▊        | 9/50 [00:02<00:12,  3.41it/s]"
     ]
    },
    {
     "name": "stdout",
     "output_type": "stream",
     "text": [
      "tensor(6893.9233, device='cuda:0', grad_fn=<MulBackward0>)\n"
     ]
    },
    {
     "name": "stderr",
     "output_type": "stream",
     "text": [
      " 20%|██        | 10/50 [00:02<00:11,  3.42it/s]"
     ]
    },
    {
     "name": "stdout",
     "output_type": "stream",
     "text": [
      "tensor(6848.9771, device='cuda:0', grad_fn=<MulBackward0>)\n"
     ]
    },
    {
     "name": "stderr",
     "output_type": "stream",
     "text": [
      " 22%|██▏       | 11/50 [00:03<00:11,  3.42it/s]"
     ]
    },
    {
     "name": "stdout",
     "output_type": "stream",
     "text": [
      "tensor(6803.7690, device='cuda:0', grad_fn=<MulBackward0>)\n"
     ]
    },
    {
     "name": "stderr",
     "output_type": "stream",
     "text": [
      " 24%|██▍       | 12/50 [00:03<00:11,  3.42it/s]"
     ]
    },
    {
     "name": "stdout",
     "output_type": "stream",
     "text": [
      "tensor(6758.2373, device='cuda:0', grad_fn=<MulBackward0>)\n"
     ]
    },
    {
     "name": "stderr",
     "output_type": "stream",
     "text": [
      " 26%|██▌       | 13/50 [00:03<00:10,  3.42it/s]"
     ]
    },
    {
     "name": "stdout",
     "output_type": "stream",
     "text": [
      "tensor(6712.3838, device='cuda:0', grad_fn=<MulBackward0>)\n"
     ]
    },
    {
     "name": "stderr",
     "output_type": "stream",
     "text": [
      " 28%|██▊       | 14/50 [00:04<00:10,  3.42it/s]"
     ]
    },
    {
     "name": "stdout",
     "output_type": "stream",
     "text": [
      "tensor(6666.1738, device='cuda:0', grad_fn=<MulBackward0>)\n"
     ]
    },
    {
     "name": "stderr",
     "output_type": "stream",
     "text": [
      " 30%|███       | 15/50 [00:04<00:10,  3.42it/s]"
     ]
    },
    {
     "name": "stdout",
     "output_type": "stream",
     "text": [
      "tensor(6619.6597, device='cuda:0', grad_fn=<MulBackward0>)\n"
     ]
    },
    {
     "name": "stderr",
     "output_type": "stream",
     "text": [
      " 32%|███▏      | 16/50 [00:04<00:09,  3.42it/s]"
     ]
    },
    {
     "name": "stdout",
     "output_type": "stream",
     "text": [
      "tensor(6572.8335, device='cuda:0', grad_fn=<MulBackward0>)\n"
     ]
    },
    {
     "name": "stderr",
     "output_type": "stream",
     "text": [
      " 34%|███▍      | 17/50 [00:04<00:09,  3.42it/s]"
     ]
    },
    {
     "name": "stdout",
     "output_type": "stream",
     "text": [
      "tensor(6525.6548, device='cuda:0', grad_fn=<MulBackward0>)\n"
     ]
    },
    {
     "name": "stderr",
     "output_type": "stream",
     "text": [
      " 36%|███▌      | 18/50 [00:05<00:09,  3.46it/s]"
     ]
    },
    {
     "name": "stdout",
     "output_type": "stream",
     "text": [
      "tensor(6478.1831, device='cuda:0', grad_fn=<MulBackward0>)\n"
     ]
    },
    {
     "name": "stderr",
     "output_type": "stream",
     "text": [
      " 38%|███▊      | 19/50 [00:05<00:09,  3.41it/s]"
     ]
    },
    {
     "name": "stdout",
     "output_type": "stream",
     "text": [
      "tensor(6430.4429, device='cuda:0', grad_fn=<MulBackward0>)\n"
     ]
    },
    {
     "name": "stderr",
     "output_type": "stream",
     "text": [
      " 40%|████      | 20/50 [00:05<00:08,  3.41it/s]"
     ]
    },
    {
     "name": "stdout",
     "output_type": "stream",
     "text": [
      "Iter 20/50, Loss: 6430.4429\n",
      "tensor(6382.3496, device='cuda:0', grad_fn=<MulBackward0>)\n"
     ]
    },
    {
     "name": "stderr",
     "output_type": "stream",
     "text": [
      " 42%|████▏     | 21/50 [00:06<00:08,  3.42it/s]"
     ]
    },
    {
     "name": "stdout",
     "output_type": "stream",
     "text": [
      "tensor(6333.8428, device='cuda:0', grad_fn=<MulBackward0>)\n"
     ]
    },
    {
     "name": "stderr",
     "output_type": "stream",
     "text": [
      " 44%|████▍     | 22/50 [00:06<00:08,  3.41it/s]"
     ]
    },
    {
     "name": "stdout",
     "output_type": "stream",
     "text": [
      "tensor(6285.1626, device='cuda:0', grad_fn=<MulBackward0>)\n"
     ]
    },
    {
     "name": "stderr",
     "output_type": "stream",
     "text": [
      " 46%|████▌     | 23/50 [00:06<00:07,  3.41it/s]"
     ]
    },
    {
     "name": "stdout",
     "output_type": "stream",
     "text": [
      "tensor(6236.0410, device='cuda:0', grad_fn=<MulBackward0>)\n"
     ]
    },
    {
     "name": "stderr",
     "output_type": "stream",
     "text": [
      " 48%|████▊     | 24/50 [00:07<00:07,  3.41it/s]"
     ]
    },
    {
     "name": "stdout",
     "output_type": "stream",
     "text": [
      "tensor(6186.6851, device='cuda:0', grad_fn=<MulBackward0>)\n"
     ]
    },
    {
     "name": "stderr",
     "output_type": "stream",
     "text": [
      " 50%|█████     | 25/50 [00:07<00:07,  3.41it/s]"
     ]
    },
    {
     "name": "stdout",
     "output_type": "stream",
     "text": [
      "tensor(6137.1187, device='cuda:0', grad_fn=<MulBackward0>)\n"
     ]
    },
    {
     "name": "stderr",
     "output_type": "stream",
     "text": [
      " 52%|█████▏    | 26/50 [00:07<00:07,  3.41it/s]"
     ]
    },
    {
     "name": "stdout",
     "output_type": "stream",
     "text": [
      "tensor(6087.1045, device='cuda:0', grad_fn=<MulBackward0>)\n"
     ]
    },
    {
     "name": "stderr",
     "output_type": "stream",
     "text": [
      " 54%|█████▍    | 27/50 [00:07<00:06,  3.41it/s]"
     ]
    },
    {
     "name": "stdout",
     "output_type": "stream",
     "text": [
      "tensor(6036.8555, device='cuda:0', grad_fn=<MulBackward0>)\n"
     ]
    },
    {
     "name": "stderr",
     "output_type": "stream",
     "text": [
      " 56%|█████▌    | 28/50 [00:08<00:06,  3.40it/s]"
     ]
    },
    {
     "name": "stdout",
     "output_type": "stream",
     "text": [
      "tensor(5986.4277, device='cuda:0', grad_fn=<MulBackward0>)\n"
     ]
    },
    {
     "name": "stderr",
     "output_type": "stream",
     "text": [
      " 58%|█████▊    | 29/50 [00:08<00:06,  3.40it/s]"
     ]
    },
    {
     "name": "stdout",
     "output_type": "stream",
     "text": [
      "tensor(5935.5854, device='cuda:0', grad_fn=<MulBackward0>)\n"
     ]
    },
    {
     "name": "stderr",
     "output_type": "stream",
     "text": [
      " 60%|██████    | 30/50 [00:08<00:05,  3.41it/s]"
     ]
    },
    {
     "name": "stdout",
     "output_type": "stream",
     "text": [
      "tensor(5884.4092, device='cuda:0', grad_fn=<MulBackward0>)\n"
     ]
    },
    {
     "name": "stderr",
     "output_type": "stream",
     "text": [
      " 62%|██████▏   | 31/50 [00:09<00:05,  3.40it/s]"
     ]
    },
    {
     "name": "stdout",
     "output_type": "stream",
     "text": [
      "tensor(5833.0391, device='cuda:0', grad_fn=<MulBackward0>)\n"
     ]
    },
    {
     "name": "stderr",
     "output_type": "stream",
     "text": [
      " 64%|██████▍   | 32/50 [00:09<00:05,  3.40it/s]"
     ]
    },
    {
     "name": "stdout",
     "output_type": "stream",
     "text": [
      "tensor(5781.4014, device='cuda:0', grad_fn=<MulBackward0>)\n"
     ]
    },
    {
     "name": "stderr",
     "output_type": "stream",
     "text": [
      " 66%|██████▌   | 33/50 [00:09<00:05,  3.39it/s]"
     ]
    },
    {
     "name": "stdout",
     "output_type": "stream",
     "text": [
      "tensor(5729.4922, device='cuda:0', grad_fn=<MulBackward0>)\n"
     ]
    },
    {
     "name": "stderr",
     "output_type": "stream",
     "text": [
      " 68%|██████▊   | 34/50 [00:09<00:04,  3.41it/s]"
     ]
    },
    {
     "name": "stdout",
     "output_type": "stream",
     "text": [
      "tensor(5677.3237, device='cuda:0', grad_fn=<MulBackward0>)\n"
     ]
    },
    {
     "name": "stderr",
     "output_type": "stream",
     "text": [
      " 70%|███████   | 35/50 [00:10<00:04,  3.41it/s]"
     ]
    },
    {
     "name": "stdout",
     "output_type": "stream",
     "text": [
      "tensor(5624.8960, device='cuda:0', grad_fn=<MulBackward0>)\n"
     ]
    },
    {
     "name": "stderr",
     "output_type": "stream",
     "text": [
      " 72%|███████▏  | 36/50 [00:10<00:04,  3.40it/s]"
     ]
    },
    {
     "name": "stdout",
     "output_type": "stream",
     "text": [
      "tensor(5572.2148, device='cuda:0', grad_fn=<MulBackward0>)\n"
     ]
    },
    {
     "name": "stderr",
     "output_type": "stream",
     "text": [
      " 74%|███████▍  | 37/50 [00:10<00:03,  3.41it/s]"
     ]
    },
    {
     "name": "stdout",
     "output_type": "stream",
     "text": [
      "tensor(5519.3062, device='cuda:0', grad_fn=<MulBackward0>)\n"
     ]
    },
    {
     "name": "stderr",
     "output_type": "stream",
     "text": [
      " 76%|███████▌  | 38/50 [00:11<00:03,  3.41it/s]"
     ]
    },
    {
     "name": "stdout",
     "output_type": "stream",
     "text": [
      "tensor(5466.1406, device='cuda:0', grad_fn=<MulBackward0>)\n"
     ]
    },
    {
     "name": "stderr",
     "output_type": "stream",
     "text": [
      " 78%|███████▊  | 39/50 [00:11<00:03,  3.41it/s]"
     ]
    },
    {
     "name": "stdout",
     "output_type": "stream",
     "text": [
      "tensor(5412.8135, device='cuda:0', grad_fn=<MulBackward0>)\n"
     ]
    },
    {
     "name": "stderr",
     "output_type": "stream",
     "text": [
      " 80%|████████  | 40/50 [00:11<00:02,  3.42it/s]"
     ]
    },
    {
     "name": "stdout",
     "output_type": "stream",
     "text": [
      "Iter 40/50, Loss: 5412.8135\n",
      "tensor(5359.1797, device='cuda:0', grad_fn=<MulBackward0>)\n"
     ]
    },
    {
     "name": "stderr",
     "output_type": "stream",
     "text": [
      " 82%|████████▏ | 41/50 [00:12<00:02,  3.42it/s]"
     ]
    },
    {
     "name": "stdout",
     "output_type": "stream",
     "text": [
      "tensor(5305.2236, device='cuda:0', grad_fn=<MulBackward0>)\n"
     ]
    },
    {
     "name": "stderr",
     "output_type": "stream",
     "text": [
      " 84%|████████▍ | 42/50 [00:12<00:02,  3.42it/s]"
     ]
    },
    {
     "name": "stdout",
     "output_type": "stream",
     "text": [
      "tensor(5251.1460, device='cuda:0', grad_fn=<MulBackward0>)\n"
     ]
    },
    {
     "name": "stderr",
     "output_type": "stream",
     "text": [
      " 86%|████████▌ | 43/50 [00:12<00:02,  3.42it/s]"
     ]
    },
    {
     "name": "stdout",
     "output_type": "stream",
     "text": [
      "tensor(5196.8413, device='cuda:0', grad_fn=<MulBackward0>)\n"
     ]
    },
    {
     "name": "stderr",
     "output_type": "stream",
     "text": [
      " 88%|████████▊ | 44/50 [00:12<00:01,  3.41it/s]"
     ]
    },
    {
     "name": "stdout",
     "output_type": "stream",
     "text": [
      "tensor(5142.3452, device='cuda:0', grad_fn=<MulBackward0>)\n"
     ]
    },
    {
     "name": "stderr",
     "output_type": "stream",
     "text": [
      " 90%|█████████ | 45/50 [00:13<00:01,  3.42it/s]"
     ]
    },
    {
     "name": "stdout",
     "output_type": "stream",
     "text": [
      "tensor(5087.6162, device='cuda:0', grad_fn=<MulBackward0>)\n"
     ]
    },
    {
     "name": "stderr",
     "output_type": "stream",
     "text": [
      " 92%|█████████▏| 46/50 [00:13<00:01,  3.41it/s]"
     ]
    },
    {
     "name": "stdout",
     "output_type": "stream",
     "text": [
      "tensor(5032.6997, device='cuda:0', grad_fn=<MulBackward0>)\n"
     ]
    },
    {
     "name": "stderr",
     "output_type": "stream",
     "text": [
      " 94%|█████████▍| 47/50 [00:13<00:00,  3.41it/s]"
     ]
    },
    {
     "name": "stdout",
     "output_type": "stream",
     "text": [
      "tensor(4977.5830, device='cuda:0', grad_fn=<MulBackward0>)\n"
     ]
    },
    {
     "name": "stderr",
     "output_type": "stream",
     "text": [
      " 96%|█████████▌| 48/50 [00:14<00:00,  3.41it/s]"
     ]
    },
    {
     "name": "stdout",
     "output_type": "stream",
     "text": [
      "tensor(4922.3926, device='cuda:0', grad_fn=<MulBackward0>)\n"
     ]
    },
    {
     "name": "stderr",
     "output_type": "stream",
     "text": [
      " 98%|█████████▊| 49/50 [00:14<00:00,  3.41it/s]"
     ]
    },
    {
     "name": "stdout",
     "output_type": "stream",
     "text": [
      "tensor(4866.8970, device='cuda:0', grad_fn=<MulBackward0>)\n"
     ]
    },
    {
     "name": "stderr",
     "output_type": "stream",
     "text": [
      "100%|██████████| 50/50 [00:14<00:00,  3.41it/s]\n",
      "100%|██████████| 50/50 [00:50<00:00,  1.01s/it]\n"
     ]
    },
    {
     "data": {
      "image/png": "[encoded data removed]",
      "text/plain": [
       "<Figure size 1500x500 with 3 Axes>"
      ]
     },
     "metadata": {},
     "output_type": "display_data"
    }
   ],
   "source": [
    "import time\n",
    "import numpy as np\n",
    "import torch\n",
    "import matplotlib.pyplot as plt\n",
    "from tqdm import tqdm\n",
    "import gpytorch\n",
    "\n",
    "# Assume device is defined, e.g., device = torch.device(\"cuda:0\")\n",
    "# Move your datasets to the specified device\n",
    "train_x = train_x.to(device)\n",
    "train_y = train_y.to(device)\n",
    "test_x = test_x.to(device)\n",
    "test_y = test_y.to(device)\n",
    "\n",
    "# --- Define the training function for IGP and CGP (unchanged) ---\n",
    "def train(model, train_x, train_y, test_x, test_y, training_iterations=100, lr=0.1):\n",
    "    optimizer = torch.optim.Adam([\n",
    "        {'params': model.kernel.parameters()}, \n",
    "        {'params': [model.noise.u]}  # Use raw_value instead of noise()\n",
    "    ], lr=lr)\n",
    "    \n",
    "    runtime_log, mll_loss_log, test_rmse_log = [], [], []\n",
    "    \n",
    "    for i in tqdm(range(training_iterations)):\n",
    "        start_time = time.time()\n",
    "        \n",
    "        optimizer.zero_grad()\n",
    "        model.fit(train_x, train_y)\n",
    "        loss = model.compute_mll(train_y)\n",
    "        print(loss)\n",
    "        loss.backward()\n",
    "        optimizer.step()\n",
    "        \n",
    "        mean, covar = model.predict(test_x)\n",
    "        \n",
    "        total_time = time.time() - start_time\n",
    "        runtime_log.append(total_time)\n",
    "        mll_loss_log.append(-loss.item())  # Logging positive MLL value\n",
    "        \n",
    "        test_rmse = torch.mean(torch.abs(mean - test_y)).item()\n",
    "        test_rmse_log.append(test_rmse)\n",
    "        \n",
    "        if (i + 1) % 20 == 0:\n",
    "            print(f'Iter {i+1}/{training_iterations}, Loss: {loss.item():.4f}')\n",
    "    \n",
    "    return model, runtime_log, mll_loss_log, test_rmse_log, mean, covar\n",
    "\n",
    "# --- Define the GPyTorch exact GP regression model ---\n",
    "class ExactGPModel(gpytorch.models.ExactGP):\n",
    "    def __init__(self, train_x, train_y, likelihood):\n",
    "        super(ExactGPModel, self).__init__(train_x, train_y, likelihood)\n",
    "        # Constant mean and a Matern kernel (with $\\nu=1.5$) scaled by a learned outputscale\n",
    "        self.mean_module = gpytorch.means.ConstantMean()\n",
    "        self.covar_module = gpytorch.kernels.ScaleKernel(\n",
    "            gpytorch.kernels.MaternKernel(nu=1.5)\n",
    "        )\n",
    "\n",
    "    def forward(self, x):\n",
    "        mean_x = self.mean_module(x)\n",
    "        covar_x = self.covar_module(x)\n",
    "        return gpytorch.distributions.MultivariateNormal(mean_x, covar_x)\n",
    "\n",
    "# --- Instantiate IGP and CGP models (using your provided setup) ---\n",
    "base_kernel = MaternKernel(ard_num_dims=train_x.shape[-1], lengthscale_prior=GammaPrior(3.0, 6.0), nu=1.5)\n",
    "kernel = ScaleKernel(base_kernel, outputscale_prior=GammaPrior(2.0, 0.15)).to(device)\n",
    "\n",
    "cgp = CholeskyGaussianProcess(kernel=kernel, dtype=global_dtype, noise=0.4, device=device)\n",
    "\n",
    "base_kernel = MaternKernel(ard_num_dims=train_x.shape[-1], lengthscale_prior=GammaPrior(3.0, 6.0), nu=1.5)\n",
    "kernel = ScaleKernel(base_kernel, outputscale_prior=GammaPrior(2.0, 0.15)).to(device)\n",
    "\n",
    "igp = IterativeGaussianProcess(kernel=kernel, noise=0.4, dtype=global_dtype, device=device,\n",
    "                               cg_tol=1e-2, cg_max_iter=100, warm_start=True, num_probes=16,\n",
    "                               precon_type=\"identity\", trace_backend=\"Hutch\",\n",
    "                               verbose=False, track_iterations=False, \n",
    "                               pred_lanczos_rank=train_x.shape[0], compute_covariance=False)\n",
    "\n",
    "# Train the iterative GP model\n",
    "model_igp, runtime_log_igp, mll_loss_log_igp, test_rmse_log_igp, mean_igp, covar_igp = train(\n",
    "    igp, train_x, train_y, test_x, test_y, training_iterations=50, lr=0.01)\n",
    "\n",
    "# Train the Cholesky-based GP model\n",
    "model_cgp, runtime_log_cgp, mll_loss_log_cgp, test_rmse_log_cgp, mean_cgp, covar_cgp = train(\n",
    "    cgp, train_x, train_y, test_x, test_y, training_iterations=50, lr=0.01)\n",
    "\n",
    "# --- Define and train the GPyTorch exact GP model ---\n",
    "likelihood = gpytorch.likelihoods.GaussianLikelihood().to(device)\n",
    "model_gp = ExactGPModel(train_x, train_y, likelihood).to(device)\n",
    "\n",
    "model_gp.train()\n",
    "likelihood.train()\n",
    "optimizer_gp = torch.optim.Adam(model_gp.parameters(), lr=0.01)\n",
    "mll_gp = gpytorch.mlls.ExactMarginalLogLikelihood(likelihood, model_gp)\n",
    "\n",
    "# Initialize logs for GPyTorch\n",
    "runtime_log_gp, mll_loss_log_gp, test_rmse_log_gp = [], [], []\n",
    "training_iterations = 50  # Using the same number of iterations\n",
    "\n",
    "for i in tqdm(range(training_iterations)):\n",
    "    start_time = time.time()\n",
    "    optimizer_gp.zero_grad()\n",
    "    output = model_gp(train_x)\n",
    "    loss = -mll_gp(output, train_y)  # negative MLL to minimize\n",
    "    loss.backward()\n",
    "    optimizer_gp.step()\n",
    "    \n",
    "    # Switch to evaluation mode for prediction\n",
    "    model_gp.eval()\n",
    "    likelihood.eval()\n",
    "    with torch.no_grad():\n",
    "        preds = likelihood(model_gp(test_x))\n",
    "        mean_gp = preds.mean\n",
    "        test_rmse_gp = torch.mean(torch.abs(mean_gp - test_y)).item()\n",
    "    \n",
    "    runtime_log_gp.append(time.time() - start_time)\n",
    "    mll_loss_log_gp.append(-loss.item())  # Log positive MLL\n",
    "    test_rmse_log_gp.append(test_rmse_gp)\n",
    "    \n",
    "    model_gp.train()\n",
    "    likelihood.train()\n",
    "\n",
    "# --- Plotting all three models ---\n",
    "fig, axes = plt.subplots(1, 3, figsize=(15, 5))\n",
    "\n",
    "# RMSE Comparison: $|\\mu - y_{\\text{true}}|$\n",
    "axes[0].plot(test_rmse_log_igp, label=\"IGP Test RMSE\")\n",
    "axes[0].plot(test_rmse_log_cgp, label=\"CGP Test RMSE\")\n",
    "axes[0].plot(test_rmse_log_gp, label=\"GPyTorch Test RMSE\")\n",
    "axes[0].set_xlabel(\"Iteration\")\n",
    "axes[0].set_ylabel(\"Test RMSE\")\n",
    "axes[0].set_title(r\"Test RMSE Comparison: $|\\mu - y_{\\text{true}}|$\")\n",
    "axes[0].legend()\n",
    "\n",
    "# MLL Comparison: $-\\mathcal{L}$ (a higher value implies a better likelihood)\n",
    "axes[1].plot(mll_loss_log_igp, label=\"IGP MLL\")\n",
    "axes[1].plot(mll_loss_log_cgp, label=\"CGP MLL\")\n",
    "axes[1].plot(mll_loss_log_gp, label=\"GPyTorch MLL\")\n",
    "axes[1].set_xlabel(\"Iteration\")\n",
    "axes[1].set_ylabel(\"Marginal Log Likelihood (Positive)\")\n",
    "axes[1].set_title(r\"MLL Comparison: $-\\mathcal{L}$\")\n",
    "axes[1].legend()\n",
    "\n",
    "# Runtime per Iteration\n",
    "axes[2].plot(runtime_log_igp, label=\"IGP Runtime\")\n",
    "axes[2].plot(runtime_log_cgp, label=\"CGP Runtime\")\n",
    "axes[2].plot(runtime_log_gp, label=\"GPyTorch Runtime\")\n",
    "axes[2].set_xlabel(\"Iteration\")\n",
    "axes[2].set_ylabel(\"Runtime (seconds)\")\n",
    "axes[2].set_title(r\"Runtime per Iteration\")\n",
    "axes[2].legend()\n",
    "\n",
    "plt.tight_layout()\n",
    "plt.show()"
   ]
  },
  {
   "cell_type": "markdown",
   "metadata": {},
   "source": [
    "### Ideas: plot values of mll quantity,\n",
    "Also add lanczos to the cholesky  :<"
   ]
  },
  {
   "cell_type": "code",
   "execution_count": null,
   "metadata": {},
   "outputs": [],
   "source": []
  },
  {
   "cell_type": "code",
   "execution_count": null,
   "metadata": {},
   "outputs": [],
   "source": []
  }
 ],
 "metadata": {
  "kernelspec": {
   "display_name": "softki",
   "language": "python",
   "name": "python3"
  },
  "language_info": {
   "codemirror_mode": {
    "name": "ipython",
    "version": 3
   },
   "file_extension": ".py",
   "mimetype": "text/x-python",
   "name": "python",
   "nbconvert_exporter": "python",
   "pygments_lexer": "ipython3",
   "version": "3.12.8"
  }
 },
 "nbformat": 4,
 "nbformat_minor": 2
}
