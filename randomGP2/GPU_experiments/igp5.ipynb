{
 "cells": [
  {
   "cell_type": "code",
   "execution_count": 1,
   "metadata": {},
   "outputs": [
    {
     "name": "stdout",
     "output_type": "stream",
     "text": [
      "[KeOps] Warning : \n",
      "    The default C++ compiler could not be found on your system.\n",
      "    You need to either define the CXX environment variable or a symlink to the g++ command.\n",
      "    For example if g++-8 is the command you can do\n",
      "      import os\n",
      "      os.environ['CXX'] = 'g++-8'\n",
      "    \n",
      "[KeOps] Warning : Cuda libraries were not detected on the system or could not be loaded ; using cpu only mode\n",
      "SIZE (16599, 19)\n",
      "Dataset loaded\n",
      "torch.Size([1659, 17])\n"
     ]
    }
   ],
   "source": [
    "import os\n",
    "import sys\n",
    "import torch\n",
    "import numpy as np\n",
    "import matplotlib.pyplot as plt\n",
    "from tqdm import tqdm \n",
    "import time \n",
    "import gpytorch\n",
    "from gpytorch.functions import pivoted_cholesky\n",
    "\n",
    "from gpytorch.kernels import ScaleKernel, MaternKernel, RBFKernel\n",
    "from gpytorch.priors import GammaPrior\n",
    "from gpytorch.likelihoods import GaussianLikelihood\n",
    "import torch\n",
    "import gc\n",
    "\n",
    "gc.collect()\n",
    "torch.cuda.empty_cache()\n",
    "torch.cuda.ipc_collect()\n",
    "# Set device and global dtype\n",
    "device = \"cuda:0\"\n",
    "global_dtype = torch.float32\n",
    "\n",
    "# Ensure reproducibility\n",
    "np.random.seed(42)\n",
    "torch.manual_seed(42)\n",
    "\n",
    "# Add project source path\n",
    "notebook_dir = os.getcwd()\n",
    "src_path = os.path.abspath(os.path.join(notebook_dir, '../code'))\n",
    "if src_path not in sys.path:\n",
    "    sys.path.append(src_path)\n",
    "\n",
    "# Import custom modules\n",
    "from gps import CholeskyGaussianProcess, IterativeGaussianProcess\n",
    "from util import train, eval, plot_gpr_results, fetch_uci_dataset, memory_dump\n",
    "from plotting import plot_gp_simple, plot_gp_sample, plot_gp_simple_regions\n",
    "\n",
    "# Enable autoreloading of modules\n",
    "%load_ext autoreload\n",
    "%autoreload 2\n",
    "train_x, train_y, test_x, test_y = fetch_uci_dataset('bike',r\"C:\\Users\\fredw\\chris\\Research\\softki\\data\\uci_datasets\\uci_datasets\\elevators\\data.csv\",train_frac=1/10,val_frac=0)\n",
    "train_x = train_x.to(device)\n",
    "train_y = train_y.to(device)\n",
    "test_x = test_x.to(device)\n",
    "print(train_x.shape)"
   ]
  },
  {
   "cell_type": "code",
   "execution_count": 2,
   "metadata": {},
   "outputs": [
    {
     "name": "stderr",
     "output_type": "stream",
     "text": [
      "  0%|          | 0/20 [00:00<?, ?it/s]c:\\Users\\fredw\\chris\\Research\\RandomIterativeGP\\randomGP2\\code\\gps.py:353: UserWarning: The use of `x.T` on tensors of dimension other than 2 to reverse their shape is deprecated and it will throw an error in a future release. Consider `x.mT` to transpose batches of matrices or `x.permute(*torch.arange(x.ndim - 1, -1, -1))` to reverse the dimensions of a tensor. (Triggered internally at C:\\actions-runner\\_work\\pytorch\\pytorch\\builder\\windows\\pytorch\\aten\\src\\ATen\\native\\TensorShape.cpp:3687.)\n",
      "  quadratic = y.T @ self.alpha\n",
      "  5%|▌         | 1/20 [00:00<00:09,  2.10it/s]"
     ]
    },
    {
     "name": "stdout",
     "output_type": "stream",
     "text": [
      "tensor(2009.7947, device='cuda:0', grad_fn=<MulBackward0>)\n"
     ]
    },
    {
     "name": "stderr",
     "output_type": "stream",
     "text": [
      " 10%|█         | 2/20 [00:00<00:08,  2.14it/s]"
     ]
    },
    {
     "name": "stdout",
     "output_type": "stream",
     "text": [
      "tensor(2001.2462, device='cuda:0', grad_fn=<MulBackward0>)\n"
     ]
    },
    {
     "name": "stderr",
     "output_type": "stream",
     "text": [
      " 15%|█▌        | 3/20 [00:01<00:07,  2.31it/s]"
     ]
    },
    {
     "name": "stdout",
     "output_type": "stream",
     "text": [
      "tensor(1994.1918, device='cuda:0', grad_fn=<MulBackward0>)\n"
     ]
    },
    {
     "name": "stderr",
     "output_type": "stream",
     "text": [
      " 20%|██        | 4/20 [00:01<00:06,  2.31it/s]"
     ]
    },
    {
     "name": "stdout",
     "output_type": "stream",
     "text": [
      "tensor(1987.1941, device='cuda:0', grad_fn=<MulBackward0>)\n"
     ]
    },
    {
     "name": "stderr",
     "output_type": "stream",
     "text": [
      " 25%|██▌       | 5/20 [00:02<00:06,  2.25it/s]"
     ]
    },
    {
     "name": "stdout",
     "output_type": "stream",
     "text": [
      "tensor(1978.3271, device='cuda:0', grad_fn=<MulBackward0>)\n"
     ]
    },
    {
     "name": "stderr",
     "output_type": "stream",
     "text": [
      " 30%|███       | 6/20 [00:02<00:06,  2.28it/s]"
     ]
    },
    {
     "name": "stdout",
     "output_type": "stream",
     "text": [
      "tensor(1970.9805, device='cuda:0', grad_fn=<MulBackward0>)\n"
     ]
    },
    {
     "name": "stderr",
     "output_type": "stream",
     "text": [
      " 35%|███▌      | 7/20 [00:03<00:05,  2.27it/s]"
     ]
    },
    {
     "name": "stdout",
     "output_type": "stream",
     "text": [
      "tensor(1964.7595, device='cuda:0', grad_fn=<MulBackward0>)\n"
     ]
    },
    {
     "name": "stderr",
     "output_type": "stream",
     "text": [
      " 40%|████      | 8/20 [00:03<00:05,  2.25it/s]"
     ]
    },
    {
     "name": "stdout",
     "output_type": "stream",
     "text": [
      "tensor(1954.9454, device='cuda:0', grad_fn=<MulBackward0>)\n"
     ]
    },
    {
     "name": "stderr",
     "output_type": "stream",
     "text": [
      " 45%|████▌     | 9/20 [00:04<00:04,  2.23it/s]"
     ]
    },
    {
     "name": "stdout",
     "output_type": "stream",
     "text": [
      "tensor(1946.2673, device='cuda:0', grad_fn=<MulBackward0>)\n"
     ]
    },
    {
     "name": "stderr",
     "output_type": "stream",
     "text": [
      " 50%|█████     | 10/20 [00:04<00:04,  2.17it/s]"
     ]
    },
    {
     "name": "stdout",
     "output_type": "stream",
     "text": [
      "tensor(1937.2444, device='cuda:0', grad_fn=<MulBackward0>)\n"
     ]
    },
    {
     "name": "stderr",
     "output_type": "stream",
     "text": [
      " 55%|█████▌    | 11/20 [00:05<00:04,  2.06it/s]"
     ]
    },
    {
     "name": "stdout",
     "output_type": "stream",
     "text": [
      "tensor(1930.6182, device='cuda:0', grad_fn=<MulBackward0>)\n"
     ]
    },
    {
     "name": "stderr",
     "output_type": "stream",
     "text": [
      " 60%|██████    | 12/20 [00:05<00:03,  2.01it/s]"
     ]
    },
    {
     "name": "stdout",
     "output_type": "stream",
     "text": [
      "tensor(1922.3062, device='cuda:0', grad_fn=<MulBackward0>)\n"
     ]
    },
    {
     "name": "stderr",
     "output_type": "stream",
     "text": [
      " 65%|██████▌   | 13/20 [00:06<00:03,  1.92it/s]"
     ]
    },
    {
     "name": "stdout",
     "output_type": "stream",
     "text": [
      "tensor(1914.1826, device='cuda:0', grad_fn=<MulBackward0>)\n"
     ]
    },
    {
     "name": "stderr",
     "output_type": "stream",
     "text": [
      " 70%|███████   | 14/20 [00:06<00:03,  1.89it/s]"
     ]
    },
    {
     "name": "stdout",
     "output_type": "stream",
     "text": [
      "tensor(1905.1895, device='cuda:0', grad_fn=<MulBackward0>)\n"
     ]
    },
    {
     "name": "stderr",
     "output_type": "stream",
     "text": [
      " 75%|███████▌  | 15/20 [00:07<00:02,  1.85it/s]"
     ]
    },
    {
     "name": "stdout",
     "output_type": "stream",
     "text": [
      "tensor(1895.3179, device='cuda:0', grad_fn=<MulBackward0>)\n"
     ]
    },
    {
     "name": "stderr",
     "output_type": "stream",
     "text": [
      " 80%|████████  | 16/20 [00:07<00:02,  1.80it/s]"
     ]
    },
    {
     "name": "stdout",
     "output_type": "stream",
     "text": [
      "tensor(1888.9354, device='cuda:0', grad_fn=<MulBackward0>)\n"
     ]
    },
    {
     "name": "stderr",
     "output_type": "stream",
     "text": [
      " 85%|████████▌ | 17/20 [00:08<00:01,  1.81it/s]"
     ]
    },
    {
     "name": "stdout",
     "output_type": "stream",
     "text": [
      "tensor(1877.7238, device='cuda:0', grad_fn=<MulBackward0>)\n"
     ]
    },
    {
     "name": "stderr",
     "output_type": "stream",
     "text": [
      " 90%|█████████ | 18/20 [00:08<00:01,  1.78it/s]"
     ]
    },
    {
     "name": "stdout",
     "output_type": "stream",
     "text": [
      "tensor(1869.3708, device='cuda:0', grad_fn=<MulBackward0>)\n"
     ]
    },
    {
     "name": "stderr",
     "output_type": "stream",
     "text": [
      " 95%|█████████▌| 19/20 [00:09<00:00,  1.73it/s]"
     ]
    },
    {
     "name": "stdout",
     "output_type": "stream",
     "text": [
      "tensor(1860.1044, device='cuda:0', grad_fn=<MulBackward0>)\n"
     ]
    },
    {
     "name": "stderr",
     "output_type": "stream",
     "text": [
      "100%|██████████| 20/20 [00:10<00:00,  1.69it/s]"
     ]
    },
    {
     "name": "stdout",
     "output_type": "stream",
     "text": [
      "tensor(1851.6622, device='cuda:0', grad_fn=<MulBackward0>)\n",
      "Iter 20/20, Loss: 1851.6622\n"
     ]
    },
    {
     "name": "stderr",
     "output_type": "stream",
     "text": [
      "100%|██████████| 20/20 [00:10<00:00,  1.96it/s]\n",
      "  0%|          | 0/20 [00:00<?, ?it/s]"
     ]
    },
    {
     "name": "stdout",
     "output_type": "stream",
     "text": [
      "tensor(2008.6356, device='cuda:0', grad_fn=<MulBackward0>)\n"
     ]
    },
    {
     "name": "stderr",
     "output_type": "stream",
     "text": [
      " 10%|█         | 2/20 [00:00<00:04,  3.62it/s]"
     ]
    },
    {
     "name": "stdout",
     "output_type": "stream",
     "text": [
      "tensor(2001.1506, device='cuda:0', grad_fn=<MulBackward0>)\n",
      "tensor(1993.5903, device='cuda:0', grad_fn=<MulBackward0>)\n"
     ]
    },
    {
     "name": "stderr",
     "output_type": "stream",
     "text": [
      " 20%|██        | 4/20 [00:00<00:02,  5.84it/s]"
     ]
    },
    {
     "name": "stdout",
     "output_type": "stream",
     "text": [
      "tensor(1985.9547, device='cuda:0', grad_fn=<MulBackward0>)\n",
      "tensor(1978.2446, device='cuda:0', grad_fn=<MulBackward0>)\n"
     ]
    },
    {
     "name": "stderr",
     "output_type": "stream",
     "text": [
      " 35%|███▌      | 7/20 [00:01<00:01,  7.35it/s]"
     ]
    },
    {
     "name": "stdout",
     "output_type": "stream",
     "text": [
      "tensor(1970.4507, device='cuda:0', grad_fn=<MulBackward0>)\n",
      "tensor(1962.5835, device='cuda:0', grad_fn=<MulBackward0>)\n"
     ]
    },
    {
     "name": "stderr",
     "output_type": "stream",
     "text": [
      " 45%|████▌     | 9/20 [00:01<00:01,  8.17it/s]"
     ]
    },
    {
     "name": "stdout",
     "output_type": "stream",
     "text": [
      "tensor(1954.6320, device='cuda:0', grad_fn=<MulBackward0>)\n",
      "tensor(1946.5991, device='cuda:0', grad_fn=<MulBackward0>)\n"
     ]
    },
    {
     "name": "stderr",
     "output_type": "stream",
     "text": [
      " 50%|█████     | 10/20 [00:01<00:01,  7.90it/s]"
     ]
    },
    {
     "name": "stdout",
     "output_type": "stream",
     "text": [
      "tensor(1938.4769, device='cuda:0', grad_fn=<MulBackward0>)\n",
      "tensor(1930.2734, device='cuda:0', grad_fn=<MulBackward0>)\n"
     ]
    },
    {
     "name": "stderr",
     "output_type": "stream",
     "text": [
      " 65%|██████▌   | 13/20 [00:01<00:00,  8.42it/s]"
     ]
    },
    {
     "name": "stdout",
     "output_type": "stream",
     "text": [
      "tensor(1921.9814, device='cuda:0', grad_fn=<MulBackward0>)\n",
      "tensor(1913.6058, device='cuda:0', grad_fn=<MulBackward0>)\n"
     ]
    },
    {
     "name": "stderr",
     "output_type": "stream",
     "text": [
      " 70%|███████   | 14/20 [00:02<00:00,  8.53it/s]"
     ]
    },
    {
     "name": "stdout",
     "output_type": "stream",
     "text": [
      "tensor(1905.1360, device='cuda:0', grad_fn=<MulBackward0>)\n",
      "tensor(1896.5784, device='cuda:0', grad_fn=<MulBackward0>)\n"
     ]
    },
    {
     "name": "stderr",
     "output_type": "stream",
     "text": [
      " 80%|████████  | 16/20 [00:02<00:00,  8.57it/s]"
     ]
    },
    {
     "name": "stdout",
     "output_type": "stream",
     "text": [
      "tensor(1887.9377, device='cuda:0', grad_fn=<MulBackward0>)\n",
      "tensor(1879.1946, device='cuda:0', grad_fn=<MulBackward0>)\n"
     ]
    },
    {
     "name": "stderr",
     "output_type": "stream",
     "text": [
      " 90%|█████████ | 18/20 [00:02<00:00,  8.26it/s]"
     ]
    },
    {
     "name": "stdout",
     "output_type": "stream",
     "text": [
      "tensor(1870.3607, device='cuda:0', grad_fn=<MulBackward0>)\n",
      "tensor(1861.4392, device='cuda:0', grad_fn=<MulBackward0>)\n"
     ]
    },
    {
     "name": "stderr",
     "output_type": "stream",
     "text": [
      "100%|██████████| 20/20 [00:02<00:00,  7.31it/s]\n"
     ]
    },
    {
     "name": "stdout",
     "output_type": "stream",
     "text": [
      "tensor(1852.4202, device='cuda:0', grad_fn=<MulBackward0>)\n",
      "Iter 20/20, Loss: 1852.4202\n"
     ]
    },
    {
     "data": {
      "image/png": "[encoded data removed]",
      "text/plain": [
       "<Figure size 1200x500 with 3 Axes>"
      ]
     },
     "metadata": {},
     "output_type": "display_data"
    }
   ],
   "source": [
    "import time\n",
    "import numpy as np\n",
    "import torch\n",
    "import matplotlib.pyplot as plt\n",
    "from tqdm import tqdm\n",
    "\n",
    "def train(model, train_x, train_y, test_x, test_y, training_iterations=100, lr=0.1):\n",
    "    optimizer = torch.optim.Adam([\n",
    "        {'params': model.kernel.parameters()}, \n",
    "        {'params': [model.noise.u]}  # Use raw_value instead of noise()\n",
    "    ], lr=lr)\n",
    "    \n",
    "    runtime_log, mll_loss_log, test_rmse_log = [], [], []\n",
    "    \n",
    "    for i in tqdm(range(training_iterations)):\n",
    "        start_time = time.time()\n",
    "        \n",
    "        optimizer.zero_grad()\n",
    "        model.fit(train_x, train_y)\n",
    "        loss = model.compute_mll(train_y)\n",
    "        print(loss)\n",
    "        \n",
    "        torch.autograd.set_detect_anomaly(True)\n",
    "        loss.backward()\n",
    "        optimizer.step()\n",
    "        \n",
    "        mean, covar = model.predict(test_x)\n",
    "        \n",
    "        total_time = time.time() - start_time\n",
    "        runtime_log.append(total_time)\n",
    "        mll_loss_log.append(-loss.item())  # Logging positive MLL value\n",
    "        \n",
    "        test_rmse = torch.mean(torch.abs(mean.detach().cpu()- test_y)).item()\n",
    "        test_rmse_log.append(test_rmse)\n",
    "        \n",
    "        if (i + 1) % 20 == 0:\n",
    "            print(f'Iter {i+1}/{training_iterations}, Loss: {loss.item():.4f}')\n",
    "    \n",
    "    return model, runtime_log, mll_loss_log, test_rmse_log, mean, covar\n",
    "\n",
    "# Example usage:\n",
    "# Assuming that model_igp and model_cgp are instantiated GP models (Iterative GP and Cholesky GP respectively),\n",
    "# and train_x, train_y, test_x, test_y are already defined.\n",
    "base_kernel = MaternKernel(ard_num_dims=train_x.shape[-1], lengthscale_prior=GammaPrior(3.0, 6.0), nu=1.5)\n",
    "kernel = ScaleKernel(base_kernel, outputscale_prior=GammaPrior(2.0, 0.15)).to(device)\n",
    "\n",
    "cgp = CholeskyGaussianProcess(kernel=kernel, dtype=global_dtype, noise=0.4, device=device)\n",
    "\n",
    "\n",
    "base_kernel = MaternKernel(ard_num_dims=train_x.shape[-1], lengthscale_prior=GammaPrior(3.0, 6.0), nu=1.5)\n",
    "kernel = ScaleKernel(base_kernel, outputscale_prior=GammaPrior(2.0, 0.15)).to(device)\n",
    "\n",
    "igp = IterativeGaussianProcess(kernel=kernel, noise=0.4, dtype=global_dtype, device=device,\n",
    "                               cg_tol=1e-2, cg_max_iter=100, warm_start=False, num_probes=50,\n",
    "                               precon_type=\"identity\", trace_backend=\"Hutch\",\n",
    "                               verbose=False, track_iterations=False, \n",
    "                               pred_lanczos_rank=train_x.shape[0], compute_covariance=False)\n",
    "                               \n",
    "# Train the iterative GP model\n",
    "epochs= 20\n",
    "model_igp, runtime_log_igp, mll_loss_log_igp, test_rmse_log_igp, mean_igp, covar_igp = train(igp, train_x, train_y, test_x, test_y, training_iterations=epochs, lr=0.01)\n",
    "\n",
    "# Train the Cholesky-based GP model\n",
    "model_cgp, runtime_log_cgp, mll_loss_log_cgp, test_rmse_log_cgp, mean_cgp, covar_cgp = train(cgp, train_x, train_y, test_x, test_y, training_iterations=epochs, lr=0.01)\n",
    "\n",
    "# ----------------------------\n",
    "# Two-Panel Plot: RMSE, MLL, and Runtime\n",
    "# ----------------------------\n",
    "fig, axes = plt.subplots(1, 3, figsize=(12, 5))\n",
    "\n",
    "# Plot RMSE comparison: |μ - yₜᵣᵤₑ|\n",
    "axes[0].plot(test_rmse_log_igp, label=\"IGP Test RMSE\")\n",
    "axes[0].plot(test_rmse_log_cgp, label=\"CGP Test RMSE\")\n",
    "axes[0].set_xlabel(\"Iteration\")\n",
    "axes[0].set_ylabel(\"Test RMSE\")\n",
    "axes[0].set_title(r\"Test RMSE Comparison: $|\\mu - y_{\\text{true}}|$\")\n",
    "axes[0].legend()\n",
    "\n",
    "# Plot MLL comparison: -𝓛 (where a lower negative loss indicates a higher likelihood)\n",
    "axes[1].plot(mll_loss_log_igp, label=\"IGP MLL\")\n",
    "axes[1].plot(mll_loss_log_cgp, label=\"CGP MLL\")\n",
    "axes[1].set_xlabel(\"Iteration\")\n",
    "axes[1].set_ylabel(\"Marginal Log Likelihood (Positive)\")\n",
    "axes[1].set_title(r\"MLL Comparison: $-\\mathcal{L}$\")\n",
    "axes[1].legend()\n",
    "\n",
    "# Plot runtime per iteration\n",
    "axes[2].plot(runtime_log_igp, label=\"IGP Runtime\")\n",
    "axes[2].plot(runtime_log_cgp, label=\"CGP Runtime\")\n",
    "axes[2].set_xlabel(\"Iteration\")\n",
    "axes[2].set_ylabel(\"Runtime (seconds)\")\n",
    "axes[2].set_title(r\"Runtime per Iteration\")\n",
    "axes[2].legend()\n",
    "\n",
    "plt.tight_layout()\n",
    "plt.show()"
   ]
  },
  {
   "cell_type": "code",
   "execution_count": 4,
   "metadata": {},
   "outputs": [
    {
     "name": "stdout",
     "output_type": "stream",
     "text": [
      "Epoch 1/25\n",
      "IGP MLL: -2077.3015, RMSE: 0.4353\n",
      "CGP MLL: -2079.6448, RMSE: 0.4203\n",
      "Epoch 2/25\n",
      "IGP MLL: -2083.6885, RMSE: 0.4387\n",
      "CGP MLL: -2073.8809, RMSE: 0.4164\n",
      "Epoch 3/25\n",
      "IGP MLL: -2084.4075, RMSE: 0.4423\n",
      "CGP MLL: -2068.0723, RMSE: 0.4126\n",
      "Epoch 4/25\n",
      "IGP MLL: -2091.4241, RMSE: 0.4457\n",
      "CGP MLL: -2062.2202, RMSE: 0.4088\n",
      "Epoch 5/25\n"
     ]
    },
    {
     "ename": "KeyboardInterrupt",
     "evalue": "",
     "output_type": "error",
     "traceback": [
      "\u001b[1;31m---------------------------------------------------------------------------\u001b[0m",
      "\u001b[1;31mKeyboardInterrupt\u001b[0m                         Traceback (most recent call last)",
      "Cell \u001b[1;32mIn[4], line 292\u001b[0m\n\u001b[0;32m    284\u001b[0m \u001b[38;5;66;03m##kernel = ScaleKernel(base_kernel, outputscale_prior=GammaPrior(2.0, 0.15)).to(device)\u001b[39;00m\n\u001b[0;32m    286\u001b[0m igp \u001b[38;5;241m=\u001b[39m IterativeGaussianProcess(kernel\u001b[38;5;241m=\u001b[39mbase_kernel, noise\u001b[38;5;241m=\u001b[39m\u001b[38;5;241m0.4\u001b[39m, dtype\u001b[38;5;241m=\u001b[39mglobal_dtype, device\u001b[38;5;241m=\u001b[39mdevice,\n\u001b[0;32m    287\u001b[0m                                cg_tol\u001b[38;5;241m=\u001b[39m\u001b[38;5;241m1e-2\u001b[39m, cg_max_iter\u001b[38;5;241m=\u001b[39m\u001b[38;5;241m50\u001b[39m, warm_start\u001b[38;5;241m=\u001b[39m\u001b[38;5;28;01mFalse\u001b[39;00m, num_probes\u001b[38;5;241m=\u001b[39m\u001b[38;5;241m16\u001b[39m,\n\u001b[0;32m    288\u001b[0m                                precon_type\u001b[38;5;241m=\u001b[39m\u001b[38;5;124m\"\u001b[39m\u001b[38;5;124midentity\u001b[39m\u001b[38;5;124m\"\u001b[39m, trace_backend\u001b[38;5;241m=\u001b[39m\u001b[38;5;124m\"\u001b[39m\u001b[38;5;124mHutch\u001b[39m\u001b[38;5;124m\"\u001b[39m,\n\u001b[0;32m    289\u001b[0m                                verbose\u001b[38;5;241m=\u001b[39m\u001b[38;5;28;01mFalse\u001b[39;00m, track_iterations\u001b[38;5;241m=\u001b[39m\u001b[38;5;28;01mFalse\u001b[39;00m, \n\u001b[0;32m    290\u001b[0m                                pred_lanczos_rank\u001b[38;5;241m=\u001b[39mtrain_x\u001b[38;5;241m.\u001b[39mshape[\u001b[38;5;241m0\u001b[39m], compute_covariance\u001b[38;5;241m=\u001b[39m\u001b[38;5;28;01mFalse\u001b[39;00m)\n\u001b[1;32m--> 292\u001b[0m results \u001b[38;5;241m=\u001b[39m \u001b[43mtrain_and_compare_gradients\u001b[49m\u001b[43m(\u001b[49m\n\u001b[0;32m    293\u001b[0m \u001b[43m    \u001b[49m\u001b[43migp\u001b[49m\u001b[38;5;241;43m=\u001b[39;49m\u001b[43migp\u001b[49m\u001b[43m,\u001b[49m\u001b[43m \u001b[49m\n\u001b[0;32m    294\u001b[0m \u001b[43m    \u001b[49m\u001b[43mcgp\u001b[49m\u001b[38;5;241;43m=\u001b[39;49m\u001b[43mcgp\u001b[49m\u001b[43m,\u001b[49m\u001b[43m \u001b[49m\n\u001b[0;32m    295\u001b[0m \u001b[43m    \u001b[49m\u001b[43mtrain_x\u001b[49m\u001b[38;5;241;43m=\u001b[39;49m\u001b[43mtrain_x\u001b[49m\u001b[43m,\u001b[49m\u001b[43m \u001b[49m\n\u001b[0;32m    296\u001b[0m \u001b[43m    \u001b[49m\u001b[43mtrain_y\u001b[49m\u001b[38;5;241;43m=\u001b[39;49m\u001b[43mtrain_y\u001b[49m\u001b[43m,\u001b[49m\u001b[43m \u001b[49m\n\u001b[0;32m    297\u001b[0m \u001b[43m    \u001b[49m\u001b[43mtest_x\u001b[49m\u001b[38;5;241;43m=\u001b[39;49m\u001b[43mtest_x\u001b[49m\u001b[43m,\u001b[49m\u001b[43m \u001b[49m\n\u001b[0;32m    298\u001b[0m \u001b[43m    \u001b[49m\u001b[43mtest_y\u001b[49m\u001b[38;5;241;43m=\u001b[39;49m\u001b[43mtest_y\u001b[49m\u001b[43m,\u001b[49m\u001b[43m \u001b[49m\n\u001b[0;32m    299\u001b[0m \u001b[43m    \u001b[49m\u001b[43mepochs\u001b[49m\u001b[38;5;241;43m=\u001b[39;49m\u001b[38;5;241;43m25\u001b[39;49m\u001b[43m,\u001b[49m\n\u001b[0;32m    300\u001b[0m \u001b[43m    \u001b[49m\u001b[43mlr\u001b[49m\u001b[38;5;241;43m=\u001b[39;49m\u001b[38;5;241;43m0.01\u001b[39;49m\n\u001b[0;32m    301\u001b[0m \u001b[43m)\u001b[49m\n\u001b[0;32m    303\u001b[0m \u001b[38;5;66;03m# Visualize the results\u001b[39;00m\n\u001b[0;32m    304\u001b[0m visualize_gradient_comparison(results)\n",
      "Cell \u001b[1;32mIn[4], line 67\u001b[0m, in \u001b[0;36mtrain_and_compare_gradients\u001b[1;34m(igp, cgp, train_x, train_y, test_x, test_y, epochs, lr)\u001b[0m\n\u001b[0;32m     65\u001b[0m cgp_mean, cgp_covar \u001b[38;5;241m=\u001b[39m cgp\u001b[38;5;241m.\u001b[39mpredict(test_x)\n\u001b[0;32m     66\u001b[0m cgp_runtime\u001b[38;5;241m.\u001b[39mappend(time\u001b[38;5;241m.\u001b[39mtime() \u001b[38;5;241m-\u001b[39m start_time)\n\u001b[1;32m---> 67\u001b[0m cgp_mll\u001b[38;5;241m.\u001b[39mappend(\u001b[38;5;241m-\u001b[39m\u001b[43mcgp_loss\u001b[49m\u001b[38;5;241;43m.\u001b[39;49m\u001b[43mitem\u001b[49m\u001b[43m(\u001b[49m\u001b[43m)\u001b[49m)\n\u001b[0;32m     68\u001b[0m cgp_rmse\u001b[38;5;241m.\u001b[39mappend(torch\u001b[38;5;241m.\u001b[39mmean(torch\u001b[38;5;241m.\u001b[39mabs(cgp_mean\u001b[38;5;241m.\u001b[39mdetach()\u001b[38;5;241m.\u001b[39mcpu() \u001b[38;5;241m-\u001b[39m test_y))\u001b[38;5;241m.\u001b[39mitem())\n\u001b[0;32m     69\u001b[0m cgp_grads\u001b[38;5;241m.\u001b[39mappend(cgp_epoch_grads)\n",
      "\u001b[1;31mKeyboardInterrupt\u001b[0m: "
     ]
    }
   ],
   "source": [
    "import time\n",
    "import numpy as np\n",
    "import torch\n",
    "import matplotlib.pyplot as plt\n",
    "from tqdm import tqdm\n",
    "import copy\n",
    "\n",
    "def train_and_compare_gradients(igp, cgp, train_x, train_y, test_x, test_y, epochs=3, lr=0.01):\n",
    "    \"\"\"\n",
    "    Train both models for a specified number of epochs and track gradient information\n",
    "    for comparison between custom IGP gradients and standard backpropagation.\n",
    "    Both models use Adam optimizer for parameter updates.\n",
    "    \"\"\"\n",
    "    # Create optimizers for both models\n",
    "    cgp_optimizer = torch.optim.Adam([\n",
    "        {'params': cgp.kernel.parameters()}, \n",
    "        {'params': [cgp.noise.u]}\n",
    "    ], lr=lr)\n",
    "    \n",
    "    igp_optimizer = torch.optim.Adam([\n",
    "        {'params': igp.kernel.parameters()}, \n",
    "        {'params': [igp.noise.u]}\n",
    "    ], lr=lr)\n",
    "    \n",
    "    # Storage for gradient tracking\n",
    "    igp_grads = []  # Custom gradient estimates\n",
    "    cgp_grads = []  # Backprop gradients\n",
    "    \n",
    "    # Storage for performance metrics\n",
    "    igp_runtime = []\n",
    "    cgp_runtime = []\n",
    "    igp_mll = []\n",
    "    cgp_mll = []\n",
    "    igp_rmse = []\n",
    "    cgp_rmse = []\n",
    "    \n",
    "    for epoch in range(epochs):\n",
    "        print(f\"Epoch {epoch+1}/{epochs}\")\n",
    "        \n",
    "        # ===== Train CGP with standard backpropagation =====\n",
    "        start_time = time.time()\n",
    "        \n",
    "        # Forward pass\n",
    "        cgp_optimizer.zero_grad()\n",
    "        cgp.fit(train_x, train_y)\n",
    "        cgp_loss = cgp.compute_mll(train_y)\n",
    "        \n",
    "        # Backward pass to compute gradients\n",
    "        cgp_loss.backward()\n",
    "        \n",
    "        # Store parameter gradients before optimizer step\n",
    "        cgp_epoch_grads = {}\n",
    "        for name, param in cgp.kernel.named_parameters():\n",
    "            if param.requires_grad and param.grad is not None:\n",
    "                cgp_epoch_grads[name] = param.grad.clone().cpu()\n",
    "        \n",
    "        # Store noise gradient\n",
    "        if cgp.noise.u.grad is not None:\n",
    "            cgp_epoch_grads[\"noise\"] = cgp.noise.u.grad.clone().cpu()\n",
    "        \n",
    "        # Update parameters\n",
    "        cgp_optimizer.step()\n",
    "        \n",
    "        # Evaluate\n",
    "        cgp_mean, cgp_covar = cgp.predict(test_x)\n",
    "        cgp_runtime.append(time.time() - start_time)\n",
    "        cgp_mll.append(-cgp_loss.item())\n",
    "        cgp_rmse.append(torch.mean(torch.abs(cgp_mean.detach().cpu() - test_y)).item())\n",
    "        cgp_grads.append(cgp_epoch_grads)\n",
    "        \n",
    "        # ===== Train IGP with custom gradient estimation (using Adam) =====\n",
    "        start_time = time.time()\n",
    "        \n",
    "        # Forward pass\n",
    "        igp.fit(train_x, train_y)\n",
    "        igp_loss = igp.compute_mll(train_y)\n",
    "        \n",
    "        # Compute custom gradients\n",
    "        igp_epoch_grads = igp.estimate_mll_gradient()\n",
    "        \n",
    "        # Store CPU copies of gradients\n",
    "        igp_epoch_grads_cpu = {}\n",
    "        for key, grad in igp_epoch_grads.items():\n",
    "            igp_epoch_grads_cpu[key] = grad.clone().cpu() if isinstance(grad, torch.Tensor) else torch.tensor(grad, dtype=torch.float32)\n",
    "        \n",
    "        # Apply custom gradients using Adam optimizer\n",
    "        # First zero out any existing gradients\n",
    "        igp_optimizer.zero_grad()\n",
    "        \n",
    "        # Manually set gradients for kernel parameters\n",
    "        for name, param in igp.kernel.named_parameters():\n",
    "            if param.requires_grad and name in igp_epoch_grads:\n",
    "                # Note: We use negative gradient since we're maximizing MLL\n",
    "                if param.grad is None:\n",
    "                    param.grad = -igp_epoch_grads[name].to(param.device)\n",
    "                else:\n",
    "                    param.grad.data = -igp_epoch_grads[name].to(param.device)\n",
    "        \n",
    "        # Set gradient for noise parameter\n",
    "        if \"noise\" in igp_epoch_grads:\n",
    "            if igp.noise.u.grad is None:\n",
    "                igp.noise.u.grad = -igp_epoch_grads[\"noise\"].to(igp.noise.u.device)\n",
    "            else:\n",
    "                igp.noise.u.grad.data = -igp_epoch_grads[\"noise\"].to(igp.noise.u.device)\n",
    "        \n",
    "        # Update parameters using Adam\n",
    "        igp_optimizer.step()\n",
    "        \n",
    "        # Evaluate\n",
    "        igp_mean, igp_covar = igp.predict(test_x)\n",
    "        igp_runtime.append(time.time() - start_time)\n",
    "        igp_mll.append(-igp_loss.item())\n",
    "        igp_rmse.append(torch.mean(torch.abs(igp_mean.detach().cpu() - test_y)).item())\n",
    "        igp_grads.append(igp_epoch_grads_cpu)\n",
    "        \n",
    "        print(f\"IGP MLL: {-igp_loss.item():.4f}, RMSE: {igp_rmse[-1]:.4f}\")\n",
    "        print(f\"CGP MLL: {-cgp_loss.item():.4f}, RMSE: {cgp_rmse[-1]:.4f}\")\n",
    "    \n",
    "    return {\n",
    "        \"igp_grads\": igp_grads,\n",
    "        \"cgp_grads\": cgp_grads,\n",
    "        \"igp_runtime\": igp_runtime,\n",
    "        \"cgp_runtime\": cgp_runtime,\n",
    "        \"igp_mll\": igp_mll,\n",
    "        \"cgp_mll\": cgp_mll,\n",
    "        \"igp_rmse\": igp_rmse,\n",
    "        \"cgp_rmse\": cgp_rmse,\n",
    "        \"igp_final\": igp,\n",
    "        \"cgp_final\": cgp\n",
    "    }\n",
    "\n",
    "def visualize_gradient_comparison(results, param_names=None):\n",
    "    \"\"\"\n",
    "    Create visualizations to compare gradients between IGP and CGP.\n",
    "    \n",
    "    Args:\n",
    "        results: Dictionary containing training results\n",
    "        param_names: List of parameter names to visualize (optional)\n",
    "    \"\"\"\n",
    "    igp_grads = results[\"igp_grads\"]\n",
    "    cgp_grads = results[\"cgp_grads\"]\n",
    "    \n",
    "    # If no specific parameters are specified, use all available parameters\n",
    "    if param_names is None:\n",
    "        # Find intersection of parameter names from both methods\n",
    "        param_names = []\n",
    "        for name in igp_grads[0].keys():\n",
    "            if name != \"noise\" and any(name in cgp_grad for cgp_grad in cgp_grads):\n",
    "                param_names.append(name)\n",
    "        \n",
    "        # Add noise if available in both\n",
    "        if \"noise\" in igp_grads[0] and any(\"noise\" in cgp_grad for cgp_grad in cgp_grads):\n",
    "            param_names.append(\"noise\")\n",
    "    \n",
    "    epochs = len(igp_grads)\n",
    "    \n",
    "    # Create a figure for each parameter\n",
    "    for param_name in param_names:\n",
    "        fig, axes = plt.subplots(1, 2, figsize=(12, 5))\n",
    "        \n",
    "        # Extract gradient values across epochs\n",
    "        igp_param_grads = []\n",
    "        cgp_param_grads = []\n",
    "        \n",
    "        for epoch in range(epochs):\n",
    "            if param_name in igp_grads[epoch]:\n",
    "                igp_grad = igp_grads[epoch][param_name]\n",
    "                if isinstance(igp_grad, torch.Tensor):\n",
    "                    igp_param_grads.append(igp_grad.detach().flatten().numpy())\n",
    "                else:\n",
    "                    igp_param_grads.append(np.array([igp_grad]))\n",
    "            \n",
    "            # CGP gradients might use different naming convention\n",
    "            cgp_key = None\n",
    "            if param_name == \"noise\" and \"noise\" in cgp_grads[epoch]:\n",
    "                cgp_key = \"noise\"\n",
    "            else:\n",
    "                cgp_key = next((k for k in cgp_grads[epoch].keys() if param_name in k), None)\n",
    "            \n",
    "            if cgp_key:\n",
    "                cgp_grad = cgp_grads[epoch][cgp_key]\n",
    "                if isinstance(cgp_grad, torch.Tensor):\n",
    "                    cgp_param_grads.append(cgp_grad.detach().flatten().numpy())\n",
    "                else:\n",
    "                    cgp_param_grads.append(np.array([cgp_grad]))\n",
    "        \n",
    "        # Determine if we're dealing with a scalar or vector parameter\n",
    "        is_scalar = all(g.size == 1 for g in igp_param_grads + cgp_param_grads)\n",
    "        \n",
    "        if is_scalar:\n",
    "            # Plot scalar parameter gradients\n",
    "            axes[0].plot(range(epochs), [g[0] for g in igp_param_grads], 'o-', label='IGP')\n",
    "            axes[0].plot(range(epochs), [g[0] for g in cgp_param_grads], 's-', label='CGP')\n",
    "            axes[0].set_xlabel('Epoch')\n",
    "            axes[0].set_ylabel(f'Gradient ({param_name})')\n",
    "            axes[0].legend()\n",
    "            axes[0].set_title(f'Gradient Comparison for {param_name}')\n",
    "            \n",
    "            # Plot relative difference\n",
    "            if len(igp_param_grads) == len(cgp_param_grads):\n",
    "                rel_diff = [abs(i[0] - c[0]) / (abs(c[0]) + 1e-10) for i, c in zip(igp_param_grads, cgp_param_grads)]\n",
    "                axes[1].plot(range(epochs), rel_diff, 'o-')\n",
    "                axes[1].set_xlabel('Epoch')\n",
    "                axes[1].set_ylabel('Relative Difference')\n",
    "                axes[1].set_title(f'Relative Gradient Difference for {param_name}')\n",
    "        else:\n",
    "            # For vector parameters, we can visualize distribution of gradient values\n",
    "            axes[0].boxplot([g for g in igp_param_grads], positions=range(epochs), \n",
    "                           boxprops=dict(color='blue'), medianprops=dict(color='blue'))\n",
    "            axes[0].boxplot([g for g in cgp_param_grads], positions=[p + 0.3 for p in range(epochs)], \n",
    "                           boxprops=dict(color='orange'), medianprops=dict(color='orange'))\n",
    "            axes[0].set_xlabel('Epoch')\n",
    "            axes[0].set_ylabel(f'Gradient Distribution ({param_name})')\n",
    "            axes[0].legend(['IGP', 'CGP'])\n",
    "            axes[0].set_title(f'Gradient Distribution Comparison for {param_name}')\n",
    "            \n",
    "            # Correlation plot for the last epoch\n",
    "            if len(igp_param_grads) > 0 and len(cgp_param_grads) > 0:\n",
    "                igp_last = igp_param_grads[-1]\n",
    "                cgp_last = cgp_param_grads[-1]\n",
    "                \n",
    "                # If dimensions match, we can do element-wise comparison\n",
    "                if igp_last.size == cgp_last.size:\n",
    "                    axes[1].scatter(igp_last, cgp_last, alpha=0.5)\n",
    "                    \n",
    "                    # Add y=x line for reference\n",
    "                    max_val = max(np.max(np.abs(igp_last)), np.max(np.abs(cgp_last)))\n",
    "                    axes[1].plot([-max_val, max_val], [-max_val, max_val], 'k--', alpha=0.5)\n",
    "                    \n",
    "                    axes[1].set_xlabel('IGP Gradient')\n",
    "                    axes[1].set_ylabel('CGP Gradient')\n",
    "                    axes[1].set_title(f'Gradient Correlation (Epoch {epochs})')\n",
    "                    \n",
    "                    # Calculate correlation coefficient\n",
    "                    corr = np.corrcoef(igp_last, cgp_last)[0, 1]\n",
    "                    axes[1].text(0.05, 0.95, f'Correlation: {corr:.3f}', \n",
    "                                transform=axes[1].transAxes, verticalalignment='top')\n",
    "                else:\n",
    "                    axes[1].text(0.5, 0.5, 'Different dimensions, cannot compare directly', \n",
    "                                ha='center', va='center', transform=axes[1].transAxes)\n",
    "        \n",
    "        plt.tight_layout()\n",
    "        plt.show()\n",
    "        \n",
    "    # Also plot performance metrics\n",
    "    fig, axes = plt.subplots(1, 3, figsize=(18, 5))\n",
    "    \n",
    "    epochs_range = range(1, epochs+1)\n",
    "    \n",
    "    # Plot MLL comparison\n",
    "    axes[0].plot(epochs_range, results[\"igp_mll\"], 'o-', label='IGP')\n",
    "    axes[0].plot(epochs_range, results[\"cgp_mll\"], 's-', label='CGP')\n",
    "    axes[0].set_xlabel('Epoch')\n",
    "    axes[0].set_ylabel('Marginal Log Likelihood')\n",
    "    axes[0].set_title('MLL Comparison')\n",
    "    axes[0].legend()\n",
    "    \n",
    "    # Plot RMSE comparison\n",
    "    axes[1].plot(epochs_range, results[\"igp_rmse\"], 'o-', label='IGP')\n",
    "    axes[1].plot(epochs_range, results[\"cgp_rmse\"], 's-', label='CGP')\n",
    "    axes[1].set_xlabel('Epoch')\n",
    "    axes[1].set_ylabel('Test RMSE')\n",
    "    axes[1].set_title('RMSE Comparison')\n",
    "    axes[1].legend()\n",
    "    \n",
    "    # Plot runtime comparison\n",
    "    axes[2].plot(epochs_range, results[\"igp_runtime\"], 'o-', label='IGP')\n",
    "    axes[2].plot(epochs_range, results[\"cgp_runtime\"], 's-', label='CGP')\n",
    "    axes[2].set_xlabel('Epoch')\n",
    "    axes[2].set_ylabel('Runtime (seconds)')\n",
    "    axes[2].set_title('Runtime Comparison')\n",
    "    axes[2].legend()\n",
    "    \n",
    "    plt.tight_layout()\n",
    "    plt.show()\n",
    "\n",
    "base_kernel = MaternKernel(ard_num_dims=train_x.shape[-1], lengthscale_prior=GammaPrior(3.0, 6.0), nu=1.5)\n",
    "#kernel = ScaleKernel(base_kernel, outputscale_prior=GammaPrior(2.0, 0.15)).to(device)\n",
    "\n",
    "cgp = CholeskyGaussianProcess(kernel=base_kernel, dtype=global_dtype, noise=0.4, device=device)\n",
    "\n",
    "\n",
    "base_kernel = MaternKernel(ard_num_dims=train_x.shape[-1], lengthscale_prior=GammaPrior(3.0, 6.0), nu=1.5)\n",
    "##kernel = ScaleKernel(base_kernel, outputscale_prior=GammaPrior(2.0, 0.15)).to(device)\n",
    "\n",
    "igp = IterativeGaussianProcess(kernel=base_kernel, noise=0.4, dtype=global_dtype, device=device,\n",
    "                               cg_tol=1e-2, cg_max_iter=50, warm_start=False, num_probes=16,\n",
    "                               precon_type=\"identity\", trace_backend=\"Hutch\",\n",
    "                               verbose=False, track_iterations=False, \n",
    "                               pred_lanczos_rank=train_x.shape[0], compute_covariance=False)\n",
    "\n",
    "results = train_and_compare_gradients(\n",
    "    igp=igp, \n",
    "    cgp=cgp, \n",
    "    train_x=train_x, \n",
    "    train_y=train_y, \n",
    "    test_x=test_x, \n",
    "    test_y=test_y, \n",
    "    epochs=25,\n",
    "    lr=0.01\n",
    ")\n",
    "\n",
    "# Visualize the results\n",
    "visualize_gradient_comparison(results)"
   ]
  },
  {
   "cell_type": "code",
   "execution_count": null,
   "metadata": {},
   "outputs": [],
   "source": []
  }
 ],
 "metadata": {
  "kernelspec": {
   "display_name": "softki",
   "language": "python",
   "name": "python3"
  },
  "language_info": {
   "codemirror_mode": {
    "name": "ipython",
    "version": 3
   },
   "file_extension": ".py",
   "mimetype": "text/x-python",
   "name": "python",
   "nbconvert_exporter": "python",
   "pygments_lexer": "ipython3",
   "version": "3.12.8"
  }
 },
 "nbformat": 4,
 "nbformat_minor": 2
}
